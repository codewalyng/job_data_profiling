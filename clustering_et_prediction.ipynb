{
 "cells": [
  {
   "cell_type": "markdown",
   "metadata": {},
   "source": [
    " <h1><center> Quel(le) data scientist êtes-vous ?  </center></h1>     \n",
    " \n",
    " \n",
    " \n",
    "## Contexte de l’analyse\n",
    "\n",
    "Elu métier le plus sexy par la Harvard Business Review en octobre 2012, le data scientist représente un profil rare qui exige de nombreuses compétences.\n",
    "\n",
    "A partir d'un dataset \"data\", vous réaliserez :\n",
    "- un clustering non supervisé afin d'identifier 2 groupes de profils techniques distinctes\n",
    "- une prédiction des profils dont le métier n'est pas labellisé\n",
    "\n",
    "\n",
    "## Données\n",
    "data.csv contient 6 variables : \n",
    "    - 'Entreprise' correspond à une liste d'entreprises fictive\n",
    "    - 'Metier' correspond au métier parmi data scientist, lead data scientist, data engineer et data architecte\n",
    "    - 'Technologies' correspond aux compétences maîtrisées par le profil\n",
    "    - 'Diplome' correspond à son niveau scolaire (Bac, Master, PhD,...)\n",
    "    - 'Experience' correspond au nombre d'années d'expériences\n",
    "    - 'Ville' correspond au lieu de travail\n",
    "    \n",
    "\n",
    "\n",
    "## Répondez aux questions \n",
    "\n",
    "Bonne chance!"
   ]
  },
  {
   "cell_type": "code",
   "execution_count": 1,
   "metadata": {},
   "outputs": [],
   "source": [
    "# Import des libraries classique (numpy, pandas, ...)\n",
    "import pandas as pd\n",
    "import numpy as np\n",
    "import re\n",
    "import sklearn as sk\n",
    "import seaborn as sb\n",
    "from matplotlib import pyplot as plt\n",
    "plt.style.use('ggplot')\n",
    "# =============Import supplementaire from sklearn=================\n",
    "from sklearn.model_selection import train_test_split\n",
    "from sklearn.ensemble import ExtraTreesClassifier\n",
    "from sklearn.metrics import classification_report, confusion_matrix\n"
   ]
  },
  {
   "cell_type": "markdown",
   "metadata": {},
   "source": [
    "### 1) Importer le tableau de données dans un dataframe "
   ]
  },
  {
   "cell_type": "code",
   "execution_count": 2,
   "metadata": {},
   "outputs": [
    {
     "data": {
      "text/html": [
       "<div>\n",
       "<style scoped>\n",
       "    .dataframe tbody tr th:only-of-type {\n",
       "        vertical-align: middle;\n",
       "    }\n",
       "\n",
       "    .dataframe tbody tr th {\n",
       "        vertical-align: top;\n",
       "    }\n",
       "\n",
       "    .dataframe thead th {\n",
       "        text-align: right;\n",
       "    }\n",
       "</style>\n",
       "<table border=\"1\" class=\"dataframe\">\n",
       "  <thead>\n",
       "    <tr style=\"text-align: right;\">\n",
       "      <th></th>\n",
       "      <th>Entreprise</th>\n",
       "      <th>Metier</th>\n",
       "      <th>Technologies</th>\n",
       "      <th>Diplome</th>\n",
       "      <th>Experience</th>\n",
       "      <th>Ville</th>\n",
       "    </tr>\n",
       "  </thead>\n",
       "  <tbody>\n",
       "    <tr>\n",
       "      <th>0</th>\n",
       "      <td>Sanofi</td>\n",
       "      <td>Data scientist</td>\n",
       "      <td>Matlab/Python/Pyspark/Scikit-learn/Tensorflow</td>\n",
       "      <td>Master</td>\n",
       "      <td>1</td>\n",
       "      <td>Paris</td>\n",
       "    </tr>\n",
       "    <tr>\n",
       "      <th>1</th>\n",
       "      <td>Massachusetts General Hospital(MGH)</td>\n",
       "      <td>Data architecte</td>\n",
       "      <td>Python/Java/Scala/MongoDB</td>\n",
       "      <td>Master</td>\n",
       "      <td>3</td>\n",
       "      <td>Marseille</td>\n",
       "    </tr>\n",
       "    <tr>\n",
       "      <th>2</th>\n",
       "      <td>Delve</td>\n",
       "      <td>Lead data scientist</td>\n",
       "      <td>SPSS/SQL/Teradata/R/Python/Tensorflow/scikit-l...</td>\n",
       "      <td>Master</td>\n",
       "      <td>3</td>\n",
       "      <td>Nantes</td>\n",
       "    </tr>\n",
       "    <tr>\n",
       "      <th>3</th>\n",
       "      <td>Ann &amp; Robert H. Lurie Children’s Hospital of C...</td>\n",
       "      <td>Data scientist</td>\n",
       "      <td>C/C++/Java/Python</td>\n",
       "      <td>Master</td>\n",
       "      <td>1,5</td>\n",
       "      <td>Marseille</td>\n",
       "    </tr>\n",
       "    <tr>\n",
       "      <th>4</th>\n",
       "      <td>Arm</td>\n",
       "      <td>Data scientist</td>\n",
       "      <td>Matlab/Python/C++/numpy/Tensorflow/scikit-learn</td>\n",
       "      <td>Phd</td>\n",
       "      <td>NaN</td>\n",
       "      <td>Bordeaux</td>\n",
       "    </tr>\n",
       "  </tbody>\n",
       "</table>\n",
       "</div>"
      ],
      "text/plain": [
       "                                          Entreprise               Metier  \\\n",
       "0                                             Sanofi       Data scientist   \n",
       "1                Massachusetts General Hospital(MGH)      Data architecte   \n",
       "2                                              Delve  Lead data scientist   \n",
       "3  Ann & Robert H. Lurie Children’s Hospital of C...       Data scientist   \n",
       "4                                                Arm       Data scientist   \n",
       "\n",
       "                                        Technologies Diplome Experience  \\\n",
       "0      Matlab/Python/Pyspark/Scikit-learn/Tensorflow  Master          1   \n",
       "1                          Python/Java/Scala/MongoDB  Master          3   \n",
       "2  SPSS/SQL/Teradata/R/Python/Tensorflow/scikit-l...  Master          3   \n",
       "3                                  C/C++/Java/Python  Master        1,5   \n",
       "4    Matlab/Python/C++/numpy/Tensorflow/scikit-learn     Phd        NaN   \n",
       "\n",
       "       Ville  \n",
       "0      Paris  \n",
       "1  Marseille  \n",
       "2     Nantes  \n",
       "3  Marseille  \n",
       "4   Bordeaux  "
      ]
     },
     "execution_count": 2,
     "metadata": {},
     "output_type": "execute_result"
    }
   ],
   "source": [
    "# Import du dataframe \"data.csv\"\n",
    "df = pd.read_csv(\"data.csv\")\n",
    "df.head()"
   ]
  },
  {
   "cell_type": "markdown",
   "metadata": {},
   "source": [
    "Nous cherchons à savoir les informations sur les données"
   ]
  },
  {
   "cell_type": "code",
   "execution_count": 3,
   "metadata": {},
   "outputs": [
    {
     "name": "stdout",
     "output_type": "stream",
     "text": [
      "<class 'pandas.core.frame.DataFrame'>\n",
      "RangeIndex: 9582 entries, 0 to 9581\n",
      "Data columns (total 6 columns):\n",
      " #   Column        Non-Null Count  Dtype \n",
      "---  ------        --------------  ----- \n",
      " 0   Entreprise    9565 non-null   object\n",
      " 1   Metier        9563 non-null   object\n",
      " 2   Technologies  9582 non-null   object\n",
      " 3   Diplome       9582 non-null   object\n",
      " 4   Experience    9488 non-null   object\n",
      " 5   Ville         9582 non-null   object\n",
      "dtypes: object(6)\n",
      "memory usage: 449.3+ KB\n"
     ]
    }
   ],
   "source": [
    "df.info()"
   ]
  },
  {
   "cell_type": "markdown",
   "metadata": {},
   "source": [
    "Toutes nos features sont de type 'objets'. Nous remarquons aussi la présence de 'Nan value'"
   ]
  },
  {
   "cell_type": "markdown",
   "metadata": {},
   "source": [
    "### 2) Combien y a t-il d'observations dans ce dataset? Y a t-il des valeurs manquantes? "
   ]
  },
  {
   "cell_type": "code",
   "execution_count": 4,
   "metadata": {},
   "outputs": [
    {
     "name": "stdout",
     "output_type": "stream",
     "text": [
      "\n",
      "Le nombre d'observation est de :  9582.\n",
      "\n",
      "Le nombre de valeurs manquantes est : 130.\n",
      "\n",
      "Pour plus de détails sur le nombre de valeurs manquantes, pour chaque feature on a : \n"
     ]
    },
    {
     "data": {
      "text/plain": [
       "Entreprise      17\n",
       "Metier          19\n",
       "Technologies     0\n",
       "Diplome          0\n",
       "Experience      94\n",
       "Ville            0\n",
       "dtype: int64"
      ]
     },
     "execution_count": 4,
     "metadata": {},
     "output_type": "execute_result"
    }
   ],
   "source": [
    "# Nombre d'observations dans le dataset\n",
    "nombre_obs = df.shape[0]\n",
    "nombre_nan_value = np.sum(df.isnull().sum())\n",
    "print()\n",
    "print(f\"Le nombre d'observation est de :  {nombre_obs}.\")\n",
    "print()\n",
    "# Nombre de valeurs manquantes dans le dataset\n",
    "print(f\"Le nombre de valeurs manquantes est : {nombre_nan_value}.\")\n",
    "print()\n",
    "# Nombre de valeurs manquantes par feature\n",
    "print(\"Pour plus de détails sur le nombre de valeurs manquantes, pour chaque feature on a : \")\n",
    "df.isnull().sum()"
   ]
  },
  {
   "cell_type": "markdown",
   "metadata": {},
   "source": [
    "### 3) Réaliser l'imputation des valeurs manquantes pour la variable \"Experience\" avec : \n",
    "- la valeur médiane pour les data scientists\n",
    "- la valeur moyenne pour les data engineers"
   ]
  },
  {
   "cell_type": "code",
   "execution_count": 5,
   "metadata": {},
   "outputs": [
    {
     "data": {
      "text/plain": [
       "dtype('float64')"
      ]
     },
     "execution_count": 5,
     "metadata": {},
     "output_type": "execute_result"
    }
   ],
   "source": [
    "# Convertion de la variable \"Experience\" de type objet à type float\n",
    "df[\"Experience\"] = df[\"Experience\"].str.replace(',', '.', regex = False).astype(float)\n",
    "df[\"Experience\"].dtype"
   ]
  },
  {
   "cell_type": "code",
   "execution_count": 6,
   "metadata": {},
   "outputs": [
    {
     "name": "stdout",
     "output_type": "stream",
     "text": [
      "<class 'pandas.core.frame.DataFrame'>\n",
      "RangeIndex: 9582 entries, 0 to 9581\n",
      "Data columns (total 6 columns):\n",
      " #   Column        Non-Null Count  Dtype  \n",
      "---  ------        --------------  -----  \n",
      " 0   Entreprise    9565 non-null   object \n",
      " 1   Metier        9563 non-null   object \n",
      " 2   Technologies  9582 non-null   object \n",
      " 3   Diplome       9582 non-null   object \n",
      " 4   Experience    9488 non-null   float64\n",
      " 5   Ville         9582 non-null   object \n",
      "dtypes: float64(1), object(5)\n",
      "memory usage: 449.3+ KB\n"
     ]
    }
   ],
   "source": [
    "df.info()"
   ]
  },
  {
   "cell_type": "code",
   "execution_count": 7,
   "metadata": {},
   "outputs": [
    {
     "data": {
      "text/plain": [
       "Int64Index([   4,   28,  104,  161,  451,  599,  800, 1122, 1150, 1251, 1256,\n",
       "            1333, 1373, 1507, 1759, 1794, 2085, 2485, 2498, 2545, 2568, 2648,\n",
       "            2649, 2852, 2870, 2967, 3077, 3236, 3276, 3484, 3801, 3828, 3871,\n",
       "            3883, 3907, 4016, 4125, 4323, 4333, 4468, 4488, 4658, 4686, 4782,\n",
       "            4838, 4881, 5095, 5119, 5455, 5551, 5708, 5723, 5762, 5845, 5904,\n",
       "            5941, 6052, 6055, 6106, 6324, 6335, 6351, 6358, 6624, 6634, 6675,\n",
       "            6781, 6784, 6805, 7009, 7322, 7451, 7676, 7694, 7695, 7743, 7959,\n",
       "            8115, 8216, 8276, 8404, 8564, 8574, 8628, 8645, 8668, 8684, 8966,\n",
       "            9153, 9296, 9496, 9498, 9510, 9512],\n",
       "           dtype='int64')"
      ]
     },
     "execution_count": 7,
     "metadata": {},
     "output_type": "execute_result"
    }
   ],
   "source": [
    "# index ou des valeurs manquantes pour la la variable \"Experiience\"\n",
    "indices_Nan_Experience = df.loc[pd.isna(df[\"Experience\"]), :].index\n",
    "indices_Nan_Experience"
   ]
  },
  {
   "cell_type": "code",
   "execution_count": 8,
   "metadata": {},
   "outputs": [
    {
     "data": {
      "text/plain": [
       "Data scientist         32\n",
       "Data architecte        23\n",
       "Data engineer          20\n",
       "Lead data scientist    19\n",
       "Name: Metier, dtype: int64"
      ]
     },
     "execution_count": 8,
     "metadata": {},
     "output_type": "execute_result"
    }
   ],
   "source": [
    "# Vérification des métiers concernés par des valeurs manquantes\n",
    "pd.Series(df.loc[indices_Nan_Experience,\"Metier\"]).value_counts()"
   ]
  },
  {
   "cell_type": "markdown",
   "metadata": {},
   "source": [
    "On constate que les tous les métiers (Data scientit, Lead data scientist, Data engineer et Data architecte) sont concernés par les valeurs manquantes et non seulement les Data scientist et Data engineers. On a :\n",
    "\n",
    "a. 32 valeurs manquantes pour le métier de Data scientist\n",
    "\n",
    "b. 23 valeurs manquantes pour le métier de Data architecte\n",
    "\n",
    "c. 20 valeurs manquantes pour le métier de Data engineer\n",
    "\n",
    "d. 19 valeurs manquantes pour le métier de Lead data scientist\n",
    "\n",
    "Je propose Réaliser l'imputation des valeurs manquantes pour la variable \"Experience\" avec :\n",
    "\n",
    "1. la valeur médiane pour les ds (data scientists)\n",
    "\n",
    "2. la valeur médiane pour les (lds) Lead data scientists\n",
    "\n",
    "3. la valeur moyenne pour les (de) data engineers\n",
    "\n",
    "4. la valeur moyenne pour les (da) Data architecte"
   ]
  },
  {
   "cell_type": "code",
   "execution_count": 9,
   "metadata": {},
   "outputs": [],
   "source": [
    "# Imputation des valeurs manquantes pour la variable \"Experience\" avec la moyenne pour les data scientists\n",
    "ds_nan_mask = df['Metier'] == 'Data scientist'\n",
    "sd_median = df[ds_nan_mask]['Experience'].dropna().median()\n",
    "df.loc[ds_nan_mask, 'Experience'] = df.loc[ds_nan_mask, 'Experience'].fillna(sd_median)\n",
    "\n",
    "# Imputation des valeurs manquantes pour la variable \"Experience\" avec la moyenne pour les Lead data scientists\n",
    "lds_nan_mask = df['Metier'] == 'Lead data scientist'\n",
    "lds_median = df[lds_nan_mask]['Experience'].dropna().median()\n",
    "df.loc[lds_nan_mask, 'Experience'] = df.loc[lds_nan_mask, 'Experience'].fillna(lds_median)\n",
    "\n",
    "# Imputation des valeurs manquantes pour la variable \"Experience\" avec la moyenne pour les data engineers\n",
    "de_nan_mask = df['Metier'] == 'Data engineer'\n",
    "de_mean = df[de_nan_mask]['Experience'].dropna().mean()\n",
    "df.loc[de_nan_mask, 'Experience'] = df.loc[de_nan_mask, 'Experience'].fillna(de_mean)\n",
    "\n",
    "# Imputation des valeurs manquantes pour la variable \"Experience\" avec la moyenne pour les Data architechtes\n",
    "da_nan_mask = df['Metier'] == 'Data architecte'\n",
    "da_mean = df[da_nan_mask]['Experience'].dropna().mean()\n",
    "df.loc[da_nan_mask, 'Experience'] = df.loc[da_nan_mask, 'Experience'].fillna(da_mean)"
   ]
  },
  {
   "cell_type": "markdown",
   "metadata": {},
   "source": [
    "Vérifions qu'il n'y a plus de Nan value pour la variable \"Experience\":"
   ]
  },
  {
   "cell_type": "code",
   "execution_count": 10,
   "metadata": {},
   "outputs": [
    {
     "data": {
      "text/plain": [
       "0"
      ]
     },
     "execution_count": 10,
     "metadata": {},
     "output_type": "execute_result"
    }
   ],
   "source": [
    "df['Experience'].isnull().sum()"
   ]
  },
  {
   "cell_type": "markdown",
   "metadata": {},
   "source": [
    "###### Commentaire: Il est à noter qu'il y a d'autres méthode d'imputation pour les valeurs manquantes. "
   ]
  },
  {
   "cell_type": "markdown",
   "metadata": {},
   "source": [
    "### 4) Combien d'années d'expériences ont, en moyenne, chacun des profils : le data scientist, le lead data scientist et le data engineer en moyenne?"
   ]
  },
  {
   "cell_type": "code",
   "execution_count": 11,
   "metadata": {},
   "outputs": [
    {
     "name": "stdout",
     "output_type": "stream",
     "text": [
      "Le nombre d'années d'expérience en moyenne de chacun des profils demandés est :\n"
     ]
    },
    {
     "data": {
      "text/html": [
       "<div>\n",
       "<style scoped>\n",
       "    .dataframe tbody tr th:only-of-type {\n",
       "        vertical-align: middle;\n",
       "    }\n",
       "\n",
       "    .dataframe tbody tr th {\n",
       "        vertical-align: top;\n",
       "    }\n",
       "\n",
       "    .dataframe thead th {\n",
       "        text-align: right;\n",
       "    }\n",
       "</style>\n",
       "<table border=\"1\" class=\"dataframe\">\n",
       "  <thead>\n",
       "    <tr style=\"text-align: right;\">\n",
       "      <th></th>\n",
       "      <th>Metier</th>\n",
       "      <th>moyenne_exp</th>\n",
       "    </tr>\n",
       "  </thead>\n",
       "  <tbody>\n",
       "    <tr>\n",
       "      <th>1</th>\n",
       "      <td>Data engineer</td>\n",
       "      <td>2.984959</td>\n",
       "    </tr>\n",
       "    <tr>\n",
       "      <th>2</th>\n",
       "      <td>Data scientist</td>\n",
       "      <td>2.241268</td>\n",
       "    </tr>\n",
       "    <tr>\n",
       "      <th>3</th>\n",
       "      <td>Lead data scientist</td>\n",
       "      <td>3.958062</td>\n",
       "    </tr>\n",
       "  </tbody>\n",
       "</table>\n",
       "</div>"
      ],
      "text/plain": [
       "                Metier  moyenne_exp\n",
       "1        Data engineer     2.984959\n",
       "2       Data scientist     2.241268\n",
       "3  Lead data scientist     3.958062"
      ]
     },
     "execution_count": 11,
     "metadata": {},
     "output_type": "execute_result"
    }
   ],
   "source": [
    "moyenne_experience_par_metier = df.groupby(\"Metier\").agg({'Experience':'mean'}).reset_index()\n",
    "moyenne_experience_par_metier = moyenne_experience_par_metier.rename({'Experience':'moyenne_exp'}, axis =1)\n",
    "moyenne_experience_par_metier_reponse_exact = moyenne_experience_par_metier.drop([moyenne_experience_par_metier.index[0]])\n",
    "print(\"Le nombre d'années d'expérience en moyenne de chacun des profils demandés est :\")\n",
    "moyenne_experience_par_metier_reponse_exact"
   ]
  },
  {
   "cell_type": "markdown",
   "metadata": {},
   "source": [
    "##### Commentaire"
   ]
  },
  {
   "cell_type": "markdown",
   "metadata": {},
   "source": [
    "Voici ci-dessous le nombre moyen d'années d'expériences pour chaque métier: "
   ]
  },
  {
   "cell_type": "code",
   "execution_count": 12,
   "metadata": {},
   "outputs": [
    {
     "data": {
      "text/html": [
       "<div>\n",
       "<style scoped>\n",
       "    .dataframe tbody tr th:only-of-type {\n",
       "        vertical-align: middle;\n",
       "    }\n",
       "\n",
       "    .dataframe tbody tr th {\n",
       "        vertical-align: top;\n",
       "    }\n",
       "\n",
       "    .dataframe thead th {\n",
       "        text-align: right;\n",
       "    }\n",
       "</style>\n",
       "<table border=\"1\" class=\"dataframe\">\n",
       "  <thead>\n",
       "    <tr style=\"text-align: right;\">\n",
       "      <th></th>\n",
       "      <th>Metier</th>\n",
       "      <th>moyenne_exp</th>\n",
       "    </tr>\n",
       "  </thead>\n",
       "  <tbody>\n",
       "    <tr>\n",
       "      <th>0</th>\n",
       "      <td>Data architecte</td>\n",
       "      <td>3.000476</td>\n",
       "    </tr>\n",
       "    <tr>\n",
       "      <th>1</th>\n",
       "      <td>Data engineer</td>\n",
       "      <td>2.984959</td>\n",
       "    </tr>\n",
       "    <tr>\n",
       "      <th>2</th>\n",
       "      <td>Data scientist</td>\n",
       "      <td>2.241268</td>\n",
       "    </tr>\n",
       "    <tr>\n",
       "      <th>3</th>\n",
       "      <td>Lead data scientist</td>\n",
       "      <td>3.958062</td>\n",
       "    </tr>\n",
       "  </tbody>\n",
       "</table>\n",
       "</div>"
      ],
      "text/plain": [
       "                Metier  moyenne_exp\n",
       "0      Data architecte     3.000476\n",
       "1        Data engineer     2.984959\n",
       "2       Data scientist     2.241268\n",
       "3  Lead data scientist     3.958062"
      ]
     },
     "execution_count": 12,
     "metadata": {},
     "output_type": "execute_result"
    }
   ],
   "source": [
    "moyenne_experience_par_metier"
   ]
  },
  {
   "cell_type": "markdown",
   "metadata": {},
   "source": [
    "### 5) Faire la représentation graphique de votre choix afin de comparer le nombre moyen d'années d'expériences pour chaque métier"
   ]
  },
  {
   "cell_type": "code",
   "execution_count": 13,
   "metadata": {},
   "outputs": [
    {
     "data": {
      "image/png": "[encoded data removed]",
      "text/plain": [
       "<Figure size 936x432 with 1 Axes>"
      ]
     },
     "metadata": {
      "needs_background": "light"
     },
     "output_type": "display_data"
    }
   ],
   "source": [
    "# Taille de la figure\n",
    "fig, ax = plt.subplots(figsize = (13, 6))\n",
    "\n",
    "# création du graphique en bar\n",
    "ax.bar(moyenne_experience_par_metier['Metier'], moyenne_experience_par_metier['moyenne_exp'], color='blue')\n",
    "\n",
    "# ajout du titre et des étiquettes d'axe\n",
    "plt.xlabel(\"Métiers\")\n",
    "plt.ylabel(\"Nombre moyen d'années d'expériences\")\n",
    "plt.title(\"Graphique comparant le nombre moyen d'années d'expériences pour chaque métier\")\n",
    "\n",
    "# Ajout du nombre moyen d'années d'expérience sur les barres \n",
    "for i in range(len(moyenne_experience_par_metier['Metier'])):\n",
    "    plt.text(i,moyenne_experience_par_metier['moyenne_exp'][i]+0.1,round(moyenne_experience_par_metier['moyenne_exp'][i],4))\n",
    "plt.xticks(rotation=30)\n",
    "plt.show()"
   ]
  },
  {
   "cell_type": "markdown",
   "metadata": {},
   "source": [
    "### 6) Transformer la variable continue 'Experience' en une nouvelle variable catégorielle 'Exp_label' à 4 modalités: débutant, confirmé, avancé et expert\n",
    "- Veuillez expliquer votre choix du règle de transformation.  "
   ]
  },
  {
   "cell_type": "markdown",
   "metadata": {},
   "source": [
    "La répartition des métiers en termes de niveau d'expérience peut varier en fonction de plusieurs facteurs tels que le secteur d'activité, le pays, la taille de l'entreprise, les compétences spécifiques requises, etc. Cependant, voici une estimation générale basée sur les observations du marché pour les data scientists selon google:\n",
    "\n",
    "1. Débutant : moins de 2 ans d'expérience\n",
    "\n",
    "2. Confirmé : de 2 à 5 ans d'expérience\n",
    "\n",
    "3. Avancé : de 5 à 10 ans d'expérience\n",
    "\n",
    "4. Expert : plus de 10 ans d'expérience\n"
   ]
  },
  {
   "cell_type": "code",
   "execution_count": 14,
   "metadata": {},
   "outputs": [],
   "source": [
    "# fonction pour transformer la variable continue en variable catégorielle\n",
    "def categoriser_exp(exp):\n",
    "    if exp < 2:\n",
    "        return 'Débutant'\n",
    "    elif exp <= 5:\n",
    "        return 'Confirmé'\n",
    "    elif exp <= 10:\n",
    "        return 'Avancé'\n",
    "    else:\n",
    "        return 'Expert'\n",
    "\n",
    "# application de la fonction à la colonne \"Experience\"\n",
    "df[\"Exp_label\"] = df['Experience'].apply(categoriser_exp)"
   ]
  },
  {
   "cell_type": "markdown",
   "metadata": {},
   "source": [
    "Je visualise cette nouvelle variable "
   ]
  },
  {
   "cell_type": "code",
   "execution_count": 15,
   "metadata": {},
   "outputs": [
    {
     "data": {
      "image/png": "[encoded data removed]",
      "text/plain": [
       "<Figure size 936x432 with 1 Axes>"
      ]
     },
     "metadata": {
      "needs_background": "light"
     },
     "output_type": "display_data"
    }
   ],
   "source": [
    "# Taille de la figure\n",
    "fig, ax = plt.subplots(figsize = (13, 6))\n",
    "\n",
    "# comptage du nombre d'observations dans chaque catégorie\n",
    "count = df[\"Exp_label\"].value_counts()\n",
    "\n",
    "# création du graphique en bar\n",
    "plt.bar(count.index, count.values)\n",
    "\n",
    "# ajout du titre et des étiquettes d'axe\n",
    "plt.xlabel('Catégorie d\\'expérience')\n",
    "plt.ylabel('Nombre d\\'observations')\n",
    "plt.title('Répartition des expériences selon le niveau')\n",
    "\n",
    "# Ajout du nombre d'employés sur les barres\n",
    "for i in range(len(count.index)):\n",
    "    plt.text(i,count.values[i]+90,round((count.values[i]/count.sum())*100,4))\n",
    "plt.xticks(rotation=30);\n",
    "\n",
    "# affichage du graphique\n",
    "plt.show()"
   ]
  },
  {
   "cell_type": "markdown",
   "metadata": {},
   "source": [
    "### 7) Quelles sont les 5 technologies les plus utilisées? Faites un graphique"
   ]
  },
  {
   "cell_type": "markdown",
   "metadata": {},
   "source": [
    "Top 5 des technologies les plus utilisées"
   ]
  },
  {
   "cell_type": "code",
   "execution_count": 16,
   "metadata": {},
   "outputs": [
    {
     "data": {
      "text/plain": [
       "Python    6627\n",
       "R         4374\n",
       "SQL       2581\n",
       "Java      1719\n",
       "Hadoop    1589\n",
       "dtype: int64"
      ]
     },
     "execution_count": 16,
     "metadata": {},
     "output_type": "execute_result"
    }
   ],
   "source": [
    "# Extraction et rangement des technologies \n",
    "ensemble_de_technologies = []\n",
    "for idx,row in df.iterrows():\n",
    "    r = row[\"Technologies\"].split(\"/\")\n",
    "    ensemble_de_technologies += r \n",
    "    \n",
    "# comptage du nombre d'occurrences de chaque élément\n",
    "counts_techno = (pd.Series(ensemble_de_technologies)).value_counts()\n",
    "\n",
    "# sélection des 5 éléments les plus fréquents\n",
    "top_five_techno = counts_techno.nlargest(5)\n",
    "top_five_techno"
   ]
  },
  {
   "cell_type": "code",
   "execution_count": 17,
   "metadata": {},
   "outputs": [
    {
     "name": "stdout",
     "output_type": "stream",
     "text": [
      "['Matlab', 'Python', 'Pyspark', 'Scikit-learn', 'Tensorflow', 'Java', 'Scala', 'MongoDB', 'SPSS', 'SQL', 'Teradata', 'R', 'scikit-learn', 'C', 'C++', 'numpy', 'VBA', 'Excel', 'PySpark', 'Linux', 'Docker', 'GNU', 'Hadoop', 'Hive', 'MariaDB', 'machine learning', 'Spark', 'AWS', 'Deep learning', 'PostgreSQL', 'Elasticsearch', 'Kibana', 'HDFS', 'Yarn', 'Microsoft Azure', 'Redshift', 'SAS', 'Machine learning', 'Anglais', 'anglais', 'AI', 'Scoring', 'Perl', 'Ruby', 'Pycharm', 'Vertica', 'Tableau', '', 'Big data', 'Kafka', 'ORACLE', 'MySQL', 'Cassandra', 'NoSQL', 'Matplotlib', 'Map-Reduce', 'PIG', 'HBASE', 'Windows', 'NoSQ', 'Hadoop(HDFS)']\n"
     ]
    }
   ],
   "source": [
    "# Les technologies utilisées\n",
    "Techno_used =list(pd.Series(ensemble_de_technologies).unique())\n",
    "print(Techno_used)"
   ]
  },
  {
   "cell_type": "code",
   "execution_count": 18,
   "metadata": {},
   "outputs": [
    {
     "name": "stdout",
     "output_type": "stream",
     "text": [
      "Le nombre de technologies différentes est de : 61 \n"
     ]
    }
   ],
   "source": [
    "# Le nombre de technologies différentes \n",
    "nbr = pd.Series(Techno_used).nunique()\n",
    "print(f\"Le nombre de technologies différentes est de : {nbr} \")"
   ]
  },
  {
   "cell_type": "markdown",
   "metadata": {},
   "source": [
    "Graphique pour les 5 technologies les plus utilisées"
   ]
  },
  {
   "cell_type": "code",
   "execution_count": 19,
   "metadata": {},
   "outputs": [
    {
     "data": {
      "image/png": "[encoded data removed]",
      "text/plain": [
       "<Figure size 936x432 with 1 Axes>"
      ]
     },
     "metadata": {
      "needs_background": "light"
     },
     "output_type": "display_data"
    }
   ],
   "source": [
    "# Taille de la figure\n",
    "fig, ax = plt.subplots(figsize = (13, 6))\n",
    "\n",
    "# création du graphique en bar\n",
    "plt.barh(top_five_techno.index, top_five_techno.values, color = 'blue')\n",
    "\n",
    "# ajout du titre et des étiquettes d'axe\n",
    "plt.ylabel(\"Les cinq technologies les plus représentées\")\n",
    "plt.xlabel(\"Nombre d'occurrences de chaque élément\")\n",
    "#plt.title('Répartition des des cinq technologies les plus utilisées')\n",
    "\n",
    "# Ajout du nombre d'employés sur les barres\n",
    "for i, v in enumerate(top_five_techno.values):\n",
    "    plt.text(v, i+.09, str(v))\n",
    "#plt.xticks(rotation=70);\n",
    "\n",
    "# affichage du graphique\n",
    "plt.show()"
   ]
  },
  {
   "cell_type": "markdown",
   "metadata": {},
   "source": [
    "Les 5 technologies les plus uilisées sont Python, R, SQL, Java, Hadoop."
   ]
  },
  {
   "cell_type": "markdown",
   "metadata": {},
   "source": [
    "### 8) Réaliser une méthode de clustering non supervisée de votre choix pour faire apparaître 2 clusters que vous jugerez pertinents. Donnez les caractéristiques de chacun des clusters.\n",
    "-  Justifier la performance de votre algorithme grace à une métrique.\n",
    "-  Interpréter votre resultat.  "
   ]
  },
  {
   "cell_type": "markdown",
   "metadata": {},
   "source": [
    "####  1. Préparation des données"
   ]
  },
  {
   "cell_type": "markdown",
   "metadata": {},
   "source": [
    "La variable 'Entreprise' dans ce cas ne devrait pas être utilisée pour le clustering ou la prédiction de métier, car elle n'est pas informative sur le profil technique d'un individu. Elle ne représente pas une caractéristique pertinente pour la classification des profils selon leur métier ou compétences techniques.\n",
    "\n",
    "La variable 'Entreprise' est plus pertinente pour des analyses d'entreprise, telles que l'analyse de l'attrition ou la comparaison des profils techniques entre différentes entreprises. Dans ce contexte, la variable 'Entreprise' pourrait être utilisée comme une variable de regroupement pour l'agrégation de données au niveau de l'entreprise.\n",
    "\n",
    "Du coup, jretire cette variable de la suite de l'étude."
   ]
  },
  {
   "cell_type": "code",
   "execution_count": 20,
   "metadata": {},
   "outputs": [
    {
     "data": {
      "text/html": [
       "<div>\n",
       "<style scoped>\n",
       "    .dataframe tbody tr th:only-of-type {\n",
       "        vertical-align: middle;\n",
       "    }\n",
       "\n",
       "    .dataframe tbody tr th {\n",
       "        vertical-align: top;\n",
       "    }\n",
       "\n",
       "    .dataframe thead th {\n",
       "        text-align: right;\n",
       "    }\n",
       "</style>\n",
       "<table border=\"1\" class=\"dataframe\">\n",
       "  <thead>\n",
       "    <tr style=\"text-align: right;\">\n",
       "      <th></th>\n",
       "      <th>Metier</th>\n",
       "      <th>Technologies</th>\n",
       "      <th>Diplome</th>\n",
       "      <th>Ville</th>\n",
       "      <th>Exp_label</th>\n",
       "    </tr>\n",
       "  </thead>\n",
       "  <tbody>\n",
       "    <tr>\n",
       "      <th>0</th>\n",
       "      <td>Data scientist</td>\n",
       "      <td>Matlab,Python,Pyspark,Scikit-learn,Tensorflow</td>\n",
       "      <td>Master</td>\n",
       "      <td>Paris</td>\n",
       "      <td>Débutant</td>\n",
       "    </tr>\n",
       "    <tr>\n",
       "      <th>1</th>\n",
       "      <td>Data architecte</td>\n",
       "      <td>Python,Java,Scala,Mongodb</td>\n",
       "      <td>Master</td>\n",
       "      <td>Marseille</td>\n",
       "      <td>Confirmé</td>\n",
       "    </tr>\n",
       "    <tr>\n",
       "      <th>2</th>\n",
       "      <td>Lead data scientist</td>\n",
       "      <td>Spss,Sql,Teradata,R,Python,Tensorflow,Scikit-l...</td>\n",
       "      <td>Master</td>\n",
       "      <td>Nantes</td>\n",
       "      <td>Confirmé</td>\n",
       "    </tr>\n",
       "    <tr>\n",
       "      <th>3</th>\n",
       "      <td>Data scientist</td>\n",
       "      <td>C,C++,Java,Python</td>\n",
       "      <td>Master</td>\n",
       "      <td>Marseille</td>\n",
       "      <td>Débutant</td>\n",
       "    </tr>\n",
       "    <tr>\n",
       "      <th>4</th>\n",
       "      <td>Data scientist</td>\n",
       "      <td>Matlab,Python,C++,Numpy,Tensorflow,Scikit-learn</td>\n",
       "      <td>Phd</td>\n",
       "      <td>Bordeaux</td>\n",
       "      <td>Confirmé</td>\n",
       "    </tr>\n",
       "  </tbody>\n",
       "</table>\n",
       "</div>"
      ],
      "text/plain": [
       "                Metier                                       Technologies  \\\n",
       "0       Data scientist      Matlab,Python,Pyspark,Scikit-learn,Tensorflow   \n",
       "1      Data architecte                          Python,Java,Scala,Mongodb   \n",
       "2  Lead data scientist  Spss,Sql,Teradata,R,Python,Tensorflow,Scikit-l...   \n",
       "3       Data scientist                                  C,C++,Java,Python   \n",
       "4       Data scientist    Matlab,Python,C++,Numpy,Tensorflow,Scikit-learn   \n",
       "\n",
       "  Diplome      Ville Exp_label  \n",
       "0  Master      Paris  Débutant  \n",
       "1  Master  Marseille  Confirmé  \n",
       "2  Master     Nantes  Confirmé  \n",
       "3  Master  Marseille  Débutant  \n",
       "4     Phd   Bordeaux  Confirmé  "
      ]
     },
     "execution_count": 20,
     "metadata": {},
     "output_type": "execute_result"
    }
   ],
   "source": [
    "#pré-nettoyage des données\n",
    "df = df.copy()\n",
    "df[\"Technologies\"] = pd.Series(df[\"Technologies\"].apply(lambda x: \",\".join(x.split(\"/\"))))\n",
    "df = df.drop([\"Experience\"], axis = 1)\n",
    "df = df.drop([\"Entreprise\"], axis = 1)\n",
    "\n",
    "# Capitalize the names of the technologies used\n",
    "def capitalize_words(s):\n",
    "    return ','.join(word.capitalize() for word in s.split(','))\n",
    "\n",
    "# Apply the function to each value in the column\n",
    "df[\"Technologies\"] = df[\"Technologies\"].apply(capitalize_words)\n",
    "df.head()"
   ]
  },
  {
   "cell_type": "markdown",
   "metadata": {},
   "source": [
    "Toutes les variables sont catégorielles."
   ]
  },
  {
   "cell_type": "markdown",
   "metadata": {},
   "source": [
    "##### a.  Encodage des variables \"Metier\", \"Diplome\", \"Exp_label\" qui ont un nombre restreint de catégories"
   ]
  },
  {
   "cell_type": "code",
   "execution_count": 21,
   "metadata": {},
   "outputs": [
    {
     "data": {
      "text/html": [
       "<div>\n",
       "<style scoped>\n",
       "    .dataframe tbody tr th:only-of-type {\n",
       "        vertical-align: middle;\n",
       "    }\n",
       "\n",
       "    .dataframe tbody tr th {\n",
       "        vertical-align: top;\n",
       "    }\n",
       "\n",
       "    .dataframe thead th {\n",
       "        text-align: right;\n",
       "    }\n",
       "</style>\n",
       "<table border=\"1\" class=\"dataframe\">\n",
       "  <thead>\n",
       "    <tr style=\"text-align: right;\">\n",
       "      <th></th>\n",
       "      <th>Metier_Data architecte</th>\n",
       "      <th>Metier_Data engineer</th>\n",
       "      <th>Metier_Data scientist</th>\n",
       "      <th>Metier_Lead data scientist</th>\n",
       "      <th>Diplome_Bachelor</th>\n",
       "      <th>Diplome_Master</th>\n",
       "      <th>Diplome_No diploma</th>\n",
       "      <th>Diplome_Phd</th>\n",
       "      <th>Exp_label_Avancé</th>\n",
       "      <th>Exp_label_Confirmé</th>\n",
       "      <th>Exp_label_Débutant</th>\n",
       "      <th>Exp_label_Expert</th>\n",
       "    </tr>\n",
       "  </thead>\n",
       "  <tbody>\n",
       "    <tr>\n",
       "      <th>0</th>\n",
       "      <td>0</td>\n",
       "      <td>0</td>\n",
       "      <td>1</td>\n",
       "      <td>0</td>\n",
       "      <td>0</td>\n",
       "      <td>1</td>\n",
       "      <td>0</td>\n",
       "      <td>0</td>\n",
       "      <td>0</td>\n",
       "      <td>0</td>\n",
       "      <td>1</td>\n",
       "      <td>0</td>\n",
       "    </tr>\n",
       "    <tr>\n",
       "      <th>1</th>\n",
       "      <td>1</td>\n",
       "      <td>0</td>\n",
       "      <td>0</td>\n",
       "      <td>0</td>\n",
       "      <td>0</td>\n",
       "      <td>1</td>\n",
       "      <td>0</td>\n",
       "      <td>0</td>\n",
       "      <td>0</td>\n",
       "      <td>1</td>\n",
       "      <td>0</td>\n",
       "      <td>0</td>\n",
       "    </tr>\n",
       "    <tr>\n",
       "      <th>2</th>\n",
       "      <td>0</td>\n",
       "      <td>0</td>\n",
       "      <td>0</td>\n",
       "      <td>1</td>\n",
       "      <td>0</td>\n",
       "      <td>1</td>\n",
       "      <td>0</td>\n",
       "      <td>0</td>\n",
       "      <td>0</td>\n",
       "      <td>1</td>\n",
       "      <td>0</td>\n",
       "      <td>0</td>\n",
       "    </tr>\n",
       "    <tr>\n",
       "      <th>3</th>\n",
       "      <td>0</td>\n",
       "      <td>0</td>\n",
       "      <td>1</td>\n",
       "      <td>0</td>\n",
       "      <td>0</td>\n",
       "      <td>1</td>\n",
       "      <td>0</td>\n",
       "      <td>0</td>\n",
       "      <td>0</td>\n",
       "      <td>0</td>\n",
       "      <td>1</td>\n",
       "      <td>0</td>\n",
       "    </tr>\n",
       "    <tr>\n",
       "      <th>4</th>\n",
       "      <td>0</td>\n",
       "      <td>0</td>\n",
       "      <td>1</td>\n",
       "      <td>0</td>\n",
       "      <td>0</td>\n",
       "      <td>0</td>\n",
       "      <td>0</td>\n",
       "      <td>1</td>\n",
       "      <td>0</td>\n",
       "      <td>1</td>\n",
       "      <td>0</td>\n",
       "      <td>0</td>\n",
       "    </tr>\n",
       "  </tbody>\n",
       "</table>\n",
       "</div>"
      ],
      "text/plain": [
       "   Metier_Data architecte  Metier_Data engineer  Metier_Data scientist  \\\n",
       "0                       0                     0                      1   \n",
       "1                       1                     0                      0   \n",
       "2                       0                     0                      0   \n",
       "3                       0                     0                      1   \n",
       "4                       0                     0                      1   \n",
       "\n",
       "   Metier_Lead data scientist  Diplome_Bachelor  Diplome_Master  \\\n",
       "0                           0                 0               1   \n",
       "1                           0                 0               1   \n",
       "2                           1                 0               1   \n",
       "3                           0                 0               1   \n",
       "4                           0                 0               0   \n",
       "\n",
       "   Diplome_No diploma  Diplome_Phd  Exp_label_Avancé  Exp_label_Confirmé  \\\n",
       "0                   0            0                 0                   0   \n",
       "1                   0            0                 0                   1   \n",
       "2                   0            0                 0                   1   \n",
       "3                   0            0                 0                   0   \n",
       "4                   0            1                 0                   1   \n",
       "\n",
       "   Exp_label_Débutant  Exp_label_Expert  \n",
       "0                   1                 0  \n",
       "1                   0                 0  \n",
       "2                   0                 0  \n",
       "3                   1                 0  \n",
       "4                   0                 0  "
      ]
     },
     "execution_count": 21,
     "metadata": {},
     "output_type": "execute_result"
    }
   ],
   "source": [
    "df_metier_diplome_experience= pd.get_dummies(df[[\"Metier\", \"Diplome\", \"Exp_label\"]])\n",
    "df_metier_diplome_experience.head()"
   ]
  },
  {
   "cell_type": "markdown",
   "metadata": {},
   "source": [
    "##### b. Préparation de la variable \"Technologie\""
   ]
  },
  {
   "cell_type": "markdown",
   "metadata": {},
   "source": [
    "Je choisis les technologies les plus utilisées. Je prends les technologies les plus présentes dans chaque profil de métier:"
   ]
  },
  {
   "cell_type": "code",
   "execution_count": 22,
   "metadata": {},
   "outputs": [
    {
     "data": {
      "text/plain": [
       "Python              84.708926\n",
       "R                   84.553687\n",
       "Sql                 35.446313\n",
       "Excel               29.961190\n",
       "Machine learning    28.072445\n",
       "C++                 22.768435\n",
       "Vba                 21.190168\n",
       "Tensorflow          18.809832\n",
       "dtype: float64"
      ]
     },
     "execution_count": 22,
     "metadata": {},
     "output_type": "execute_result"
    }
   ],
   "source": [
    "df_DST = df[df[\"Metier\"]== \"Data scientist\"].copy()\n",
    "ensemble_de_technologies_DST = []\n",
    "for idx,row in df_DST.iterrows():\n",
    "    r = row[\"Technologies\"].split(\",\")\n",
    "    ensemble_de_technologies_DST += r \n",
    "(pd.Series(ensemble_de_technologies_DST).value_counts().head(8)/df_DST.shape[0])*100"
   ]
  },
  {
   "cell_type": "code",
   "execution_count": 23,
   "metadata": {},
   "outputs": [
    {
     "data": {
      "text/plain": [
       "Python     50.319557\n",
       "Linux      35.023434\n",
       "Java       33.830422\n",
       "Mongodb    25.394120\n",
       "Gnu        23.945462\n",
       "Spark      23.178526\n",
       "Hadoop     21.985513\n",
       "Docker     21.942906\n",
       "Kibana     17.639540\n",
       "dtype: float64"
      ]
     },
     "execution_count": 23,
     "metadata": {},
     "output_type": "execute_result"
    }
   ],
   "source": [
    "df_DET = df[df[\"Metier\"]== \"Data engineer\"].copy()\n",
    "ensemble_de_technologies_DET = []\n",
    "for idx,row in df_DET.iterrows():\n",
    "    r = row[\"Technologies\"].split(\",\")\n",
    "    ensemble_de_technologies_DET += r \n",
    "(pd.Series(ensemble_de_technologies_DET).value_counts().head(9)/df_DET.shape[0])*100"
   ]
  },
  {
   "cell_type": "code",
   "execution_count": 24,
   "metadata": {},
   "outputs": [
    {
     "data": {
      "text/plain": [
       "Python           48.280735\n",
       "Java             31.182289\n",
       "Hadoop           30.428639\n",
       "Aws              29.109750\n",
       "Mongodb          21.950071\n",
       "Elasticsearch    19.406500\n",
       "dtype: float64"
      ]
     },
     "execution_count": 24,
     "metadata": {},
     "output_type": "execute_result"
    }
   ],
   "source": [
    "df_DAT = df[df[\"Metier\"]== \"Data architecte\"].copy()\n",
    "ensemble_de_technologies_DAT = []\n",
    "for idx,row in df_DAT.iterrows():\n",
    "    r = row[\"Technologies\"].split(\",\")\n",
    "    ensemble_de_technologies_DAT += r \n",
    "(pd.Series(ensemble_de_technologies_DAT).value_counts().head(6)/df_DAT.shape[0])*100"
   ]
  },
  {
   "cell_type": "code",
   "execution_count": 25,
   "metadata": {},
   "outputs": [
    {
     "data": {
      "text/plain": [
       "Python              92.182410\n",
       "R                   89.169381\n",
       "Sql                 59.364821\n",
       "Machine learning    29.560261\n",
       "Big data            22.475570\n",
       "Sas                 21.742671\n",
       "Excel               19.218241\n",
       "dtype: float64"
      ]
     },
     "execution_count": 25,
     "metadata": {},
     "output_type": "execute_result"
    }
   ],
   "source": [
    "df_LDST = df[df[\"Metier\"]== \"Lead data scientist\"].copy()\n",
    "ensemble_de_technologies_LDST = []\n",
    "for idx,row in df_LDST.iterrows():\n",
    "    r = row[\"Technologies\"].split(\",\")\n",
    "    ensemble_de_technologies_LDST += r \n",
    "(pd.Series(ensemble_de_technologies_LDST).value_counts().head(7)/df_LDST.shape[0])*100"
   ]
  },
  {
   "cell_type": "code",
   "execution_count": 26,
   "metadata": {},
   "outputs": [
    {
     "name": "stdout",
     "output_type": "stream",
     "text": [
      "['Sql', 'R', 'Sas', 'Vba', 'Linux', 'Hadoop', 'C++', 'Machine learning', 'Python', 'Java', 'Excel', 'Docker', 'Gnu', 'Mongodb', 'Spark', 'Big data', 'Aws']\n"
     ]
    }
   ],
   "source": [
    "Techno_DS = list(pd.Series(ensemble_de_technologies_DST).value_counts().head(7).index)\n",
    "Techno_DE = list(pd.Series(ensemble_de_technologies_DET).value_counts().head(8).index)\n",
    "Techno_DA = list(pd.Series(ensemble_de_technologies_DAT).value_counts().head(5).index)\n",
    "Techno_LDS = list(pd.Series(ensemble_de_technologies_LDST).value_counts().head(6).index)\n",
    "\n",
    "Techno_retunues = pd.Series(list(set(Techno_DS) | set(Techno_DE) | set(Techno_DA) | set(Techno_LDS))).unique()\n",
    "\n",
    "Techno_retenues_1 = []\n",
    "for element in Techno_retunues:\n",
    "    if element != '':\n",
    "        Techno_retenues_1.append(element)\n",
    "Technologies_retenues_final = list(set(Techno_retenues_1))\n",
    "print(Technologies_retenues_final)"
   ]
  },
  {
   "cell_type": "code",
   "execution_count": 27,
   "metadata": {},
   "outputs": [
    {
     "data": {
      "text/plain": [
       "0        Matlab,Python,Pyspark,Scikit-learn,Tensorflow\n",
       "1                            Python,Java,Scala,Mongodb\n",
       "2    Spss,Sql,Teradata,R,Python,Tensorflow,Scikit-l...\n",
       "3                                    C,C++,Java,Python\n",
       "4      Matlab,Python,C++,Numpy,Tensorflow,Scikit-learn\n",
       "5                                   Vba,Python,Excel,R\n",
       "6                           Excel,Vba,R,Python,Pyspark\n",
       "7                                  Java,C,C++,R,Python\n",
       "8                                    Java,Linux,Docker\n",
       "9                                Python,Java,Linux,Gnu\n",
       "Name: Technologies, dtype: object"
      ]
     },
     "execution_count": 27,
     "metadata": {},
     "output_type": "execute_result"
    }
   ],
   "source": [
    "df['Technologies'].head(10)"
   ]
  },
  {
   "cell_type": "code",
   "execution_count": 28,
   "metadata": {},
   "outputs": [
    {
     "data": {
      "text/plain": [
       "0                      [Python]\n",
       "1       [Python, Java, Mongodb]\n",
       "2              [Sql, R, Python]\n",
       "3           [C++, Python, Java]\n",
       "4                 [C++, Python]\n",
       "5       [R, Vba, Python, Excel]\n",
       "6       [R, Vba, Python, Excel]\n",
       "7        [R, C++, Python, Java]\n",
       "8         [Linux, Java, Docker]\n",
       "9    [Linux, Python, Java, Gnu]\n",
       "Name: Technologies, dtype: object"
      ]
     },
     "execution_count": 28,
     "metadata": {},
     "output_type": "execute_result"
    }
   ],
   "source": [
    "# define function to filter elements not in list\n",
    "def filter_list(x):\n",
    "    if any(item in x for item in my_list):\n",
    "        return x\n",
    "    else:\n",
    "        return None\n",
    "\n",
    "\n",
    "# Create a new column that contains only the allowed values\n",
    "df['Technologies']=df['Technologies'].apply(lambda x: [i for i in Technologies_retenues_final if x.__contains__(i)])\n",
    "df['Technologies'].head(10)"
   ]
  },
  {
   "cell_type": "code",
   "execution_count": 29,
   "metadata": {},
   "outputs": [
    {
     "data": {
      "text/html": [
       "<div>\n",
       "<style scoped>\n",
       "    .dataframe tbody tr th:only-of-type {\n",
       "        vertical-align: middle;\n",
       "    }\n",
       "\n",
       "    .dataframe tbody tr th {\n",
       "        vertical-align: top;\n",
       "    }\n",
       "\n",
       "    .dataframe thead th {\n",
       "        text-align: right;\n",
       "    }\n",
       "</style>\n",
       "<table border=\"1\" class=\"dataframe\">\n",
       "  <thead>\n",
       "    <tr style=\"text-align: right;\">\n",
       "      <th></th>\n",
       "      <th>Aws</th>\n",
       "      <th>Big data</th>\n",
       "      <th>C++</th>\n",
       "      <th>Docker</th>\n",
       "      <th>Excel</th>\n",
       "      <th>Gnu</th>\n",
       "      <th>Hadoop</th>\n",
       "      <th>Java</th>\n",
       "      <th>Linux</th>\n",
       "      <th>Machine learning</th>\n",
       "      <th>Mongodb</th>\n",
       "      <th>Python</th>\n",
       "      <th>R</th>\n",
       "      <th>Sas</th>\n",
       "      <th>Spark</th>\n",
       "      <th>Sql</th>\n",
       "      <th>Vba</th>\n",
       "    </tr>\n",
       "  </thead>\n",
       "  <tbody>\n",
       "    <tr>\n",
       "      <th>0</th>\n",
       "      <td>0</td>\n",
       "      <td>0</td>\n",
       "      <td>0</td>\n",
       "      <td>0</td>\n",
       "      <td>0</td>\n",
       "      <td>0</td>\n",
       "      <td>0</td>\n",
       "      <td>0</td>\n",
       "      <td>0</td>\n",
       "      <td>0</td>\n",
       "      <td>0</td>\n",
       "      <td>1</td>\n",
       "      <td>0</td>\n",
       "      <td>0</td>\n",
       "      <td>0</td>\n",
       "      <td>0</td>\n",
       "      <td>0</td>\n",
       "    </tr>\n",
       "    <tr>\n",
       "      <th>1</th>\n",
       "      <td>0</td>\n",
       "      <td>0</td>\n",
       "      <td>0</td>\n",
       "      <td>0</td>\n",
       "      <td>0</td>\n",
       "      <td>0</td>\n",
       "      <td>0</td>\n",
       "      <td>1</td>\n",
       "      <td>0</td>\n",
       "      <td>0</td>\n",
       "      <td>1</td>\n",
       "      <td>1</td>\n",
       "      <td>0</td>\n",
       "      <td>0</td>\n",
       "      <td>0</td>\n",
       "      <td>0</td>\n",
       "      <td>0</td>\n",
       "    </tr>\n",
       "    <tr>\n",
       "      <th>2</th>\n",
       "      <td>0</td>\n",
       "      <td>0</td>\n",
       "      <td>0</td>\n",
       "      <td>0</td>\n",
       "      <td>0</td>\n",
       "      <td>0</td>\n",
       "      <td>0</td>\n",
       "      <td>0</td>\n",
       "      <td>0</td>\n",
       "      <td>0</td>\n",
       "      <td>0</td>\n",
       "      <td>1</td>\n",
       "      <td>1</td>\n",
       "      <td>0</td>\n",
       "      <td>0</td>\n",
       "      <td>1</td>\n",
       "      <td>0</td>\n",
       "    </tr>\n",
       "    <tr>\n",
       "      <th>3</th>\n",
       "      <td>0</td>\n",
       "      <td>0</td>\n",
       "      <td>1</td>\n",
       "      <td>0</td>\n",
       "      <td>0</td>\n",
       "      <td>0</td>\n",
       "      <td>0</td>\n",
       "      <td>1</td>\n",
       "      <td>0</td>\n",
       "      <td>0</td>\n",
       "      <td>0</td>\n",
       "      <td>1</td>\n",
       "      <td>0</td>\n",
       "      <td>0</td>\n",
       "      <td>0</td>\n",
       "      <td>0</td>\n",
       "      <td>0</td>\n",
       "    </tr>\n",
       "    <tr>\n",
       "      <th>4</th>\n",
       "      <td>0</td>\n",
       "      <td>0</td>\n",
       "      <td>1</td>\n",
       "      <td>0</td>\n",
       "      <td>0</td>\n",
       "      <td>0</td>\n",
       "      <td>0</td>\n",
       "      <td>0</td>\n",
       "      <td>0</td>\n",
       "      <td>0</td>\n",
       "      <td>0</td>\n",
       "      <td>1</td>\n",
       "      <td>0</td>\n",
       "      <td>0</td>\n",
       "      <td>0</td>\n",
       "      <td>0</td>\n",
       "      <td>0</td>\n",
       "    </tr>\n",
       "  </tbody>\n",
       "</table>\n",
       "</div>"
      ],
      "text/plain": [
       "   Aws  Big data  C++  Docker  Excel  Gnu  Hadoop  Java  Linux  \\\n",
       "0    0         0    0       0      0    0       0     0      0   \n",
       "1    0         0    0       0      0    0       0     1      0   \n",
       "2    0         0    0       0      0    0       0     0      0   \n",
       "3    0         0    1       0      0    0       0     1      0   \n",
       "4    0         0    1       0      0    0       0     0      0   \n",
       "\n",
       "   Machine learning  Mongodb  Python  R  Sas  Spark  Sql  Vba  \n",
       "0                 0        0       1  0    0      0    0    0  \n",
       "1                 0        1       1  0    0      0    0    0  \n",
       "2                 0        0       1  1    0      0    1    0  \n",
       "3                 0        0       1  0    0      0    0    0  \n",
       "4                 0        0       1  0    0      0    0    0  "
      ]
     },
     "execution_count": 29,
     "metadata": {},
     "output_type": "execute_result"
    }
   ],
   "source": [
    "# Apply pd.get_dummies() to column of lists\n",
    "df_Technologies = df['Technologies'].apply(lambda x: pd.Series(x)).stack().str.get_dummies().groupby(level=0).sum()\n",
    "df_Technologies.head()"
   ]
  },
  {
   "cell_type": "markdown",
   "metadata": {},
   "source": [
    "##### b. Préparation de la variable \"Ville\""
   ]
  },
  {
   "cell_type": "code",
   "execution_count": 30,
   "metadata": {},
   "outputs": [
    {
     "data": {
      "text/plain": [
       "0        Paris\n",
       "1    Marseille\n",
       "2       Nantes\n",
       "3    Marseille\n",
       "4     Bordeaux\n",
       "Name: Ville, dtype: object"
      ]
     },
     "execution_count": 30,
     "metadata": {},
     "output_type": "execute_result"
    }
   ],
   "source": [
    "df[\"Ville\"].head()"
   ]
  },
  {
   "cell_type": "code",
   "execution_count": 31,
   "metadata": {},
   "outputs": [
    {
     "data": {
      "text/plain": [
       "Paris        22.432083\n",
       "Lyon         18.292367\n",
       "Marseille    15.161708\n",
       "Toulouse      9.107374\n",
       "Lille         7.917206\n",
       "Bordeaux      6.934023\n",
       "Rennes        3.673997\n",
       "Rouen         3.622251\n",
       "Nantes        3.441138\n",
       "dtype: float64"
      ]
     },
     "execution_count": 31,
     "metadata": {},
     "output_type": "execute_result"
    }
   ],
   "source": [
    "df_DSV = df[df[\"Metier\"]== \"Data scientist\"].copy()\n",
    "ensemble_de_ville_DSV = []\n",
    "for idx,row in df_DSV.iterrows():\n",
    "    r = row[\"Ville\"].split(\",\")\n",
    "    ensemble_de_ville_DSV += r \n",
    "(pd.Series(ensemble_de_ville_DSV).value_counts().head(9)/df_DSV.shape[0])*100"
   ]
  },
  {
   "cell_type": "code",
   "execution_count": 32,
   "metadata": {},
   "outputs": [
    {
     "data": {
      "text/plain": [
       "Paris        19.173413\n",
       "Marseille    17.937793\n",
       "Lyon         17.809970\n",
       "Toulouse      9.458884\n",
       "Lille         8.521517\n",
       "Bordeaux      7.711973\n",
       "Rennes        3.877290\n",
       "Nantes        3.834683\n",
       "Rouen         3.238176\n",
       "dtype: float64"
      ]
     },
     "execution_count": 32,
     "metadata": {},
     "output_type": "execute_result"
    }
   ],
   "source": [
    "df_DEV = df[df[\"Metier\"]== \"Data engineer\"].copy()\n",
    "ensemble_de_ville_DEV = []\n",
    "for idx,row in df_DEV.iterrows():\n",
    "    r = row[\"Ville\"].split(\",\")\n",
    "    ensemble_de_ville_DEV += r \n",
    "(pd.Series(ensemble_de_ville_DEV).value_counts().head(9)/df_DEV.shape[0])*100"
   ]
  },
  {
   "cell_type": "code",
   "execution_count": 33,
   "metadata": {},
   "outputs": [
    {
     "data": {
      "text/plain": [
       "Paris        20.442770\n",
       "Lyon         19.453603\n",
       "Marseille    16.533208\n",
       "Toulouse      8.761187\n",
       "Lille         8.148846\n",
       "Bordeaux      7.018370\n",
       "dtype: float64"
      ]
     },
     "execution_count": 33,
     "metadata": {},
     "output_type": "execute_result"
    }
   ],
   "source": [
    "df_DAV = df[df[\"Metier\"]== \"Data architecte\"].copy()\n",
    "ensemble_de_ville_DAV = []\n",
    "for idx,row in df_DAV.iterrows():\n",
    "    r = row[\"Ville\"].split(\",\")\n",
    "    ensemble_de_ville_DAV += r \n",
    "(pd.Series(ensemble_de_ville_DAV).value_counts().head(6)/df_DAV.shape[0])*100"
   ]
  },
  {
   "cell_type": "code",
   "execution_count": 34,
   "metadata": {},
   "outputs": [
    {
     "data": {
      "text/plain": [
       "Paris        21.172638\n",
       "Lyon         19.299674\n",
       "Marseille    15.228013\n",
       "Toulouse      8.876221\n",
       "Lille         7.491857\n",
       "Bordeaux      7.491857\n",
       "Nantes        5.293160\n",
       "dtype: float64"
      ]
     },
     "execution_count": 34,
     "metadata": {},
     "output_type": "execute_result"
    }
   ],
   "source": [
    "df_LDSV = df[df[\"Metier\"]== \"Lead data scientist\"].copy()\n",
    "ensemble_de_ville_LDSV = []\n",
    "for idx,row in df_LDSV.iterrows():\n",
    "    r = row[\"Ville\"].split(\",\")\n",
    "    ensemble_de_ville_LDSV += r \n",
    "(pd.Series(ensemble_de_ville_LDSV).value_counts().head(7)/df_LDSV.shape[0])*100"
   ]
  },
  {
   "cell_type": "code",
   "execution_count": 35,
   "metadata": {},
   "outputs": [
    {
     "name": "stdout",
     "output_type": "stream",
     "text": [
      "Dans cette partie, je retiens le top 4 des villes les plus repésentées à savoir : \n",
      "\n",
      "['Paris', 'Lyon', 'Marseille', 'Toulouse', 'Lille']\n"
     ]
    }
   ],
   "source": [
    "Villes_retenues_final = ['Paris','Lyon','Marseille','Toulouse','Lille']\n",
    "print(\"Dans cette partie, je retiens le top 4 des villes les plus repésentées à savoir : \" )\n",
    "print()\n",
    "print(Villes_retenues_final)"
   ]
  },
  {
   "cell_type": "code",
   "execution_count": 36,
   "metadata": {},
   "outputs": [
    {
     "data": {
      "text/plain": [
       "0        Paris\n",
       "1    Marseille\n",
       "2             \n",
       "3    Marseille\n",
       "4             \n",
       "5        Lille\n",
       "6        Lille\n",
       "7     Toulouse\n",
       "8        Paris\n",
       "9     Toulouse\n",
       "Name: Ville, dtype: object"
      ]
     },
     "execution_count": 36,
     "metadata": {},
     "output_type": "execute_result"
    }
   ],
   "source": [
    "# Create a new column that contains only the allowed values\n",
    "df['Ville']=df['Ville'].apply(lambda x: ' '.join([i for i in Villes_retenues_final if x.__contains__(i)]))\n",
    "df['Ville'].head(10)"
   ]
  },
  {
   "cell_type": "code",
   "execution_count": 37,
   "metadata": {},
   "outputs": [
    {
     "data": {
      "text/html": [
       "<div>\n",
       "<style scoped>\n",
       "    .dataframe tbody tr th:only-of-type {\n",
       "        vertical-align: middle;\n",
       "    }\n",
       "\n",
       "    .dataframe tbody tr th {\n",
       "        vertical-align: top;\n",
       "    }\n",
       "\n",
       "    .dataframe thead th {\n",
       "        text-align: right;\n",
       "    }\n",
       "</style>\n",
       "<table border=\"1\" class=\"dataframe\">\n",
       "  <thead>\n",
       "    <tr style=\"text-align: right;\">\n",
       "      <th></th>\n",
       "      <th>Lille</th>\n",
       "      <th>Lyon</th>\n",
       "      <th>Marseille</th>\n",
       "      <th>Paris</th>\n",
       "      <th>Toulouse</th>\n",
       "    </tr>\n",
       "  </thead>\n",
       "  <tbody>\n",
       "    <tr>\n",
       "      <th>0</th>\n",
       "      <td>0</td>\n",
       "      <td>0</td>\n",
       "      <td>0</td>\n",
       "      <td>1</td>\n",
       "      <td>0</td>\n",
       "    </tr>\n",
       "    <tr>\n",
       "      <th>1</th>\n",
       "      <td>0</td>\n",
       "      <td>0</td>\n",
       "      <td>1</td>\n",
       "      <td>0</td>\n",
       "      <td>0</td>\n",
       "    </tr>\n",
       "    <tr>\n",
       "      <th>2</th>\n",
       "      <td>0</td>\n",
       "      <td>0</td>\n",
       "      <td>0</td>\n",
       "      <td>0</td>\n",
       "      <td>0</td>\n",
       "    </tr>\n",
       "    <tr>\n",
       "      <th>3</th>\n",
       "      <td>0</td>\n",
       "      <td>0</td>\n",
       "      <td>1</td>\n",
       "      <td>0</td>\n",
       "      <td>0</td>\n",
       "    </tr>\n",
       "    <tr>\n",
       "      <th>4</th>\n",
       "      <td>0</td>\n",
       "      <td>0</td>\n",
       "      <td>0</td>\n",
       "      <td>0</td>\n",
       "      <td>0</td>\n",
       "    </tr>\n",
       "  </tbody>\n",
       "</table>\n",
       "</div>"
      ],
      "text/plain": [
       "   Lille  Lyon  Marseille  Paris  Toulouse\n",
       "0      0     0          0      1         0\n",
       "1      0     0          1      0         0\n",
       "2      0     0          0      0         0\n",
       "3      0     0          1      0         0\n",
       "4      0     0          0      0         0"
      ]
     },
     "execution_count": 37,
     "metadata": {},
     "output_type": "execute_result"
    }
   ],
   "source": [
    "# Apply pd.get_dummies() to column of lists\n",
    "df_Ville = df[\"Ville\"].apply(lambda x: pd.Series(x,dtype='object')).stack().str.get_dummies().groupby(level=0).sum()\n",
    "df_Ville = df_Ville.astype(int)\n",
    "df_Ville.head()"
   ]
  },
  {
   "cell_type": "code",
   "execution_count": 38,
   "metadata": {},
   "outputs": [
    {
     "data": {
      "text/html": [
       "<div>\n",
       "<style scoped>\n",
       "    .dataframe tbody tr th:only-of-type {\n",
       "        vertical-align: middle;\n",
       "    }\n",
       "\n",
       "    .dataframe tbody tr th {\n",
       "        vertical-align: top;\n",
       "    }\n",
       "\n",
       "    .dataframe thead th {\n",
       "        text-align: right;\n",
       "    }\n",
       "</style>\n",
       "<table border=\"1\" class=\"dataframe\">\n",
       "  <thead>\n",
       "    <tr style=\"text-align: right;\">\n",
       "      <th></th>\n",
       "      <th>Metier_Data architecte</th>\n",
       "      <th>Metier_Data engineer</th>\n",
       "      <th>Metier_Data scientist</th>\n",
       "      <th>Metier_Lead data scientist</th>\n",
       "      <th>Diplome_Bachelor</th>\n",
       "      <th>Diplome_Master</th>\n",
       "      <th>Diplome_No diploma</th>\n",
       "      <th>Diplome_Phd</th>\n",
       "      <th>Exp_label_Avancé</th>\n",
       "      <th>Exp_label_Confirmé</th>\n",
       "      <th>...</th>\n",
       "      <th>Java</th>\n",
       "      <th>Linux</th>\n",
       "      <th>Machine learning</th>\n",
       "      <th>Mongodb</th>\n",
       "      <th>Python</th>\n",
       "      <th>R</th>\n",
       "      <th>Sas</th>\n",
       "      <th>Spark</th>\n",
       "      <th>Sql</th>\n",
       "      <th>Vba</th>\n",
       "    </tr>\n",
       "  </thead>\n",
       "  <tbody>\n",
       "    <tr>\n",
       "      <th>0</th>\n",
       "      <td>0</td>\n",
       "      <td>0</td>\n",
       "      <td>1</td>\n",
       "      <td>0</td>\n",
       "      <td>0</td>\n",
       "      <td>1</td>\n",
       "      <td>0</td>\n",
       "      <td>0</td>\n",
       "      <td>0</td>\n",
       "      <td>0</td>\n",
       "      <td>...</td>\n",
       "      <td>0</td>\n",
       "      <td>0</td>\n",
       "      <td>0</td>\n",
       "      <td>0</td>\n",
       "      <td>1</td>\n",
       "      <td>0</td>\n",
       "      <td>0</td>\n",
       "      <td>0</td>\n",
       "      <td>0</td>\n",
       "      <td>0</td>\n",
       "    </tr>\n",
       "    <tr>\n",
       "      <th>1</th>\n",
       "      <td>1</td>\n",
       "      <td>0</td>\n",
       "      <td>0</td>\n",
       "      <td>0</td>\n",
       "      <td>0</td>\n",
       "      <td>1</td>\n",
       "      <td>0</td>\n",
       "      <td>0</td>\n",
       "      <td>0</td>\n",
       "      <td>1</td>\n",
       "      <td>...</td>\n",
       "      <td>1</td>\n",
       "      <td>0</td>\n",
       "      <td>0</td>\n",
       "      <td>1</td>\n",
       "      <td>1</td>\n",
       "      <td>0</td>\n",
       "      <td>0</td>\n",
       "      <td>0</td>\n",
       "      <td>0</td>\n",
       "      <td>0</td>\n",
       "    </tr>\n",
       "    <tr>\n",
       "      <th>2</th>\n",
       "      <td>0</td>\n",
       "      <td>0</td>\n",
       "      <td>0</td>\n",
       "      <td>1</td>\n",
       "      <td>0</td>\n",
       "      <td>1</td>\n",
       "      <td>0</td>\n",
       "      <td>0</td>\n",
       "      <td>0</td>\n",
       "      <td>1</td>\n",
       "      <td>...</td>\n",
       "      <td>0</td>\n",
       "      <td>0</td>\n",
       "      <td>0</td>\n",
       "      <td>0</td>\n",
       "      <td>1</td>\n",
       "      <td>1</td>\n",
       "      <td>0</td>\n",
       "      <td>0</td>\n",
       "      <td>1</td>\n",
       "      <td>0</td>\n",
       "    </tr>\n",
       "    <tr>\n",
       "      <th>3</th>\n",
       "      <td>0</td>\n",
       "      <td>0</td>\n",
       "      <td>1</td>\n",
       "      <td>0</td>\n",
       "      <td>0</td>\n",
       "      <td>1</td>\n",
       "      <td>0</td>\n",
       "      <td>0</td>\n",
       "      <td>0</td>\n",
       "      <td>0</td>\n",
       "      <td>...</td>\n",
       "      <td>1</td>\n",
       "      <td>0</td>\n",
       "      <td>0</td>\n",
       "      <td>0</td>\n",
       "      <td>1</td>\n",
       "      <td>0</td>\n",
       "      <td>0</td>\n",
       "      <td>0</td>\n",
       "      <td>0</td>\n",
       "      <td>0</td>\n",
       "    </tr>\n",
       "    <tr>\n",
       "      <th>4</th>\n",
       "      <td>0</td>\n",
       "      <td>0</td>\n",
       "      <td>1</td>\n",
       "      <td>0</td>\n",
       "      <td>0</td>\n",
       "      <td>0</td>\n",
       "      <td>0</td>\n",
       "      <td>1</td>\n",
       "      <td>0</td>\n",
       "      <td>1</td>\n",
       "      <td>...</td>\n",
       "      <td>0</td>\n",
       "      <td>0</td>\n",
       "      <td>0</td>\n",
       "      <td>0</td>\n",
       "      <td>1</td>\n",
       "      <td>0</td>\n",
       "      <td>0</td>\n",
       "      <td>0</td>\n",
       "      <td>0</td>\n",
       "      <td>0</td>\n",
       "    </tr>\n",
       "  </tbody>\n",
       "</table>\n",
       "<p>5 rows × 34 columns</p>\n",
       "</div>"
      ],
      "text/plain": [
       "   Metier_Data architecte  Metier_Data engineer  Metier_Data scientist  \\\n",
       "0                       0                     0                      1   \n",
       "1                       1                     0                      0   \n",
       "2                       0                     0                      0   \n",
       "3                       0                     0                      1   \n",
       "4                       0                     0                      1   \n",
       "\n",
       "   Metier_Lead data scientist  Diplome_Bachelor  Diplome_Master  \\\n",
       "0                           0                 0               1   \n",
       "1                           0                 0               1   \n",
       "2                           1                 0               1   \n",
       "3                           0                 0               1   \n",
       "4                           0                 0               0   \n",
       "\n",
       "   Diplome_No diploma  Diplome_Phd  Exp_label_Avancé  Exp_label_Confirmé  ...  \\\n",
       "0                   0            0                 0                   0  ...   \n",
       "1                   0            0                 0                   1  ...   \n",
       "2                   0            0                 0                   1  ...   \n",
       "3                   0            0                 0                   0  ...   \n",
       "4                   0            1                 0                   1  ...   \n",
       "\n",
       "   Java  Linux  Machine learning  Mongodb  Python  R  Sas  Spark  Sql  Vba  \n",
       "0     0      0                 0        0       1  0    0      0    0    0  \n",
       "1     1      0                 0        1       1  0    0      0    0    0  \n",
       "2     0      0                 0        0       1  1    0      0    1    0  \n",
       "3     1      0                 0        0       1  0    0      0    0    0  \n",
       "4     0      0                 0        0       1  0    0      0    0    0  \n",
       "\n",
       "[5 rows x 34 columns]"
      ]
     },
     "execution_count": 38,
     "metadata": {},
     "output_type": "execute_result"
    }
   ],
   "source": [
    "df_pret_au_clustering = ()\n",
    "                  \n",
    "df_pret_au_clustering = pd.concat([df_metier_diplome_experience, df_Ville, df_Technologies], axis = 1)\n",
    "df_pret_au_clustering.head()"
   ]
  },
  {
   "cell_type": "code",
   "execution_count": 39,
   "metadata": {},
   "outputs": [
    {
     "data": {
      "text/plain": [
       "Metier_Data architecte        0\n",
       "Metier_Data engineer          0\n",
       "Metier_Data scientist         0\n",
       "Metier_Lead data scientist    0\n",
       "Diplome_Bachelor              0\n",
       "Diplome_Master                0\n",
       "Diplome_No diploma            0\n",
       "Diplome_Phd                   0\n",
       "Exp_label_Avancé              0\n",
       "Exp_label_Confirmé            0\n",
       "Exp_label_Débutant            0\n",
       "Exp_label_Expert              0\n",
       "Lille                         0\n",
       "Lyon                          0\n",
       "Marseille                     0\n",
       "Paris                         0\n",
       "Toulouse                      0\n",
       "Aws                           0\n",
       "Big data                      0\n",
       "C++                           0\n",
       "Docker                        0\n",
       "Excel                         0\n",
       "Gnu                           0\n",
       "Hadoop                        0\n",
       "Java                          0\n",
       "Linux                         0\n",
       "Machine learning              0\n",
       "Mongodb                       0\n",
       "Python                        0\n",
       "R                             0\n",
       "Sas                           0\n",
       "Spark                         0\n",
       "Sql                           0\n",
       "Vba                           0\n",
       "dtype: int64"
      ]
     },
     "execution_count": 39,
     "metadata": {},
     "output_type": "execute_result"
    }
   ],
   "source": [
    "df_pret_au_clustering.isnull().sum()"
   ]
  },
  {
   "cell_type": "markdown",
   "metadata": {},
   "source": [
    "##### Clustering"
   ]
  },
  {
   "cell_type": "markdown",
   "metadata": {},
   "source": [
    "Voici quelques lignes qui motive les chois de mon algorithme:\n",
    "\n",
    "KMeans uses mathematical measures (distance) to cluster continuous data. The lesser the distance, the more similar our data points are. Centroids are updated by Means.\n",
    "But for categorical data points, we cannot calculate the distance. So we go for KModes algorithm. It uses the dissimilarities(total mismatches) between the data points. The lesser the dissimilarities the more similar our data points are. It uses Modes instead of means dans [blue_text](https://www.analyticsvidhya.com/blog/2021/06/kmodes-clustering-algorithm-for-categorical-data/)\n",
    "\n",
    "\n",
    "De plus, j'ai aussi la référence [blue_text](https://towardsdatascience.com/clustering-algorithm-for-data-with-mixed-categorical-and-numerical-features-d4e3a48066a0#:~:text=The%20k%2DMeans%20algorithm%20is,not%20have%20any%20natural%20origin.) qui dit:\n",
    "\n",
    "The k-Means algorithm is not applicable to categorical data, as categorical variables are discrete and do not have any natural origin. So computing euclidean distance for such as space is not meaningful.\n",
    "\n",
    "There is a certain variation to the k-Means algorithm, called k-Modes which is suitable for data with categorical features. k-Prototype is an extension of the k-Modes algorithm that works for mixed categorical and numerical features."
   ]
  },
  {
   "cell_type": "markdown",
   "metadata": {},
   "source": [
    "The k-Modes is a clustering algorithm created by Huang as the alternative to clustering analysis for categorical data only. Instead of using the average as the parameters to find out the cluster’s centroids, the k-Modes use the modes. The mechanism of finding the cluster’s centroid in the k-Modes is similar to the k-Means. Further, the within the sum of squared errors (WSSE) is modified with the within-cluster difference to accommodate the calculation of the modes.\n",
    "\n",
    "[blue_text](https://medium.com/geekculture/the-k-modes-as-clustering-algorithm-for-categorical-data-type-bcde8f95efd7)"
   ]
  },
  {
   "cell_type": "code",
   "execution_count": 40,
   "metadata": {},
   "outputs": [],
   "source": [
    "from kmodes.kmodes import KModes\n",
    "\n",
    "km = KModes(n_clusters=2, init='Huang', n_init=5, verbose=1)"
   ]
  },
  {
   "cell_type": "code",
   "execution_count": 41,
   "metadata": {},
   "outputs": [
    {
     "name": "stdout",
     "output_type": "stream",
     "text": [
      "Init: initializing centroids\n",
      "Init: initializing clusters\n",
      "Starting iterations...\n",
      "Run 1, iteration: 1/100, moves: 621, cost: 55305.0\n",
      "Init: initializing centroids\n",
      "Init: initializing clusters\n",
      "Starting iterations...\n",
      "Run 2, iteration: 1/100, moves: 1093, cost: 54582.0\n",
      "Init: initializing centroids\n",
      "Init: initializing clusters\n",
      "Starting iterations...\n",
      "Run 3, iteration: 1/100, moves: 1761, cost: 54099.0\n",
      "Run 3, iteration: 2/100, moves: 1439, cost: 54099.0\n",
      "Init: initializing centroids\n",
      "Init: initializing clusters\n",
      "Starting iterations...\n",
      "Run 4, iteration: 1/100, moves: 2241, cost: 54099.0\n",
      "Run 4, iteration: 2/100, moves: 1653, cost: 54099.0\n",
      "Init: initializing centroids\n",
      "Init: initializing clusters\n",
      "Starting iterations...\n",
      "Run 5, iteration: 1/100, moves: 3088, cost: 55161.0\n",
      "Run 5, iteration: 2/100, moves: 699, cost: 54556.0\n",
      "Run 5, iteration: 3/100, moves: 64, cost: 54556.0\n",
      "Best run was number 3\n"
     ]
    }
   ],
   "source": [
    "clusters = km.fit_predict(df_pret_au_clustering)"
   ]
  },
  {
   "cell_type": "code",
   "execution_count": 42,
   "metadata": {},
   "outputs": [],
   "source": [
    "#pip install shap"
   ]
  },
  {
   "cell_type": "code",
   "execution_count": 42,
   "metadata": {},
   "outputs": [],
   "source": [
    "centroids = km.cluster_centroids_\n",
    "labels = km.labels_"
   ]
  },
  {
   "cell_type": "code",
   "execution_count": 43,
   "metadata": {},
   "outputs": [],
   "source": [
    "# add the cluster labels to DataFrame\n",
    "df_pret_au_clustering['cluster'] = clusters"
   ]
  },
  {
   "cell_type": "code",
   "execution_count": 44,
   "metadata": {},
   "outputs": [
    {
     "data": {
      "text/plain": [
       "0       1\n",
       "1       0\n",
       "2       0\n",
       "3       1\n",
       "4       0\n",
       "       ..\n",
       "9577    1\n",
       "9578    1\n",
       "9579    1\n",
       "9580    0\n",
       "9581    1\n",
       "Name: cluster, Length: 9582, dtype: uint16"
      ]
     },
     "execution_count": 44,
     "metadata": {},
     "output_type": "execute_result"
    }
   ],
   "source": [
    "df_pret_au_clustering['cluster']"
   ]
  },
  {
   "cell_type": "markdown",
   "metadata": {},
   "source": [
    "##### Combinaison de la prédiction et du dataset."
   ]
  },
  {
   "cell_type": "code",
   "execution_count": 45,
   "metadata": {},
   "outputs": [],
   "source": [
    "df = df.copy().reset_index()"
   ]
  },
  {
   "cell_type": "code",
   "execution_count": 46,
   "metadata": {},
   "outputs": [
    {
     "data": {
      "text/html": [
       "<div>\n",
       "<style scoped>\n",
       "    .dataframe tbody tr th:only-of-type {\n",
       "        vertical-align: middle;\n",
       "    }\n",
       "\n",
       "    .dataframe tbody tr th {\n",
       "        vertical-align: top;\n",
       "    }\n",
       "\n",
       "    .dataframe thead th {\n",
       "        text-align: right;\n",
       "    }\n",
       "</style>\n",
       "<table border=\"1\" class=\"dataframe\">\n",
       "  <thead>\n",
       "    <tr style=\"text-align: right;\">\n",
       "      <th></th>\n",
       "      <th>Metier</th>\n",
       "      <th>Technologies</th>\n",
       "      <th>Diplome</th>\n",
       "      <th>Ville</th>\n",
       "      <th>Exp_label</th>\n",
       "      <th>cluster_predicted</th>\n",
       "    </tr>\n",
       "  </thead>\n",
       "  <tbody>\n",
       "    <tr>\n",
       "      <th>0</th>\n",
       "      <td>Data scientist</td>\n",
       "      <td>[Python]</td>\n",
       "      <td>Master</td>\n",
       "      <td>Paris</td>\n",
       "      <td>Débutant</td>\n",
       "      <td>1</td>\n",
       "    </tr>\n",
       "    <tr>\n",
       "      <th>1</th>\n",
       "      <td>Data architecte</td>\n",
       "      <td>[Mongodb, Java, Python]</td>\n",
       "      <td>Master</td>\n",
       "      <td>Marseille</td>\n",
       "      <td>Confirmé</td>\n",
       "      <td>0</td>\n",
       "    </tr>\n",
       "    <tr>\n",
       "      <th>2</th>\n",
       "      <td>Lead data scientist</td>\n",
       "      <td>[R, Sql, Python]</td>\n",
       "      <td>Master</td>\n",
       "      <td></td>\n",
       "      <td>Confirmé</td>\n",
       "      <td>0</td>\n",
       "    </tr>\n",
       "    <tr>\n",
       "      <th>3</th>\n",
       "      <td>Data scientist</td>\n",
       "      <td>[Java, C++, Python]</td>\n",
       "      <td>Master</td>\n",
       "      <td>Marseille</td>\n",
       "      <td>Débutant</td>\n",
       "      <td>1</td>\n",
       "    </tr>\n",
       "    <tr>\n",
       "      <th>4</th>\n",
       "      <td>Data scientist</td>\n",
       "      <td>[C++, Python]</td>\n",
       "      <td>Phd</td>\n",
       "      <td></td>\n",
       "      <td>Confirmé</td>\n",
       "      <td>0</td>\n",
       "    </tr>\n",
       "  </tbody>\n",
       "</table>\n",
       "</div>"
      ],
      "text/plain": [
       "                Metier             Technologies Diplome      Ville Exp_label  \\\n",
       "0       Data scientist                 [Python]  Master      Paris  Débutant   \n",
       "1      Data architecte  [Mongodb, Java, Python]  Master  Marseille  Confirmé   \n",
       "2  Lead data scientist         [R, Sql, Python]  Master             Confirmé   \n",
       "3       Data scientist      [Java, C++, Python]  Master  Marseille  Débutant   \n",
       "4       Data scientist            [C++, Python]     Phd             Confirmé   \n",
       "\n",
       "   cluster_predicted  \n",
       "0                  1  \n",
       "1                  0  \n",
       "2                  0  \n",
       "3                  1  \n",
       "4                  0  "
      ]
     },
     "execution_count": 46,
     "metadata": {},
     "output_type": "execute_result"
    }
   ],
   "source": [
    "clustersDf = pd.DataFrame(df_pret_au_clustering['cluster'])\n",
    "clustersDf.columns = ['cluster_predicted']\n",
    "combinedDf = pd.concat([df, clustersDf], axis = 1).reset_index()\n",
    "combinedDf = combinedDf.drop(['index', 'level_0'], axis = 1)\n",
    "combinedDf.head()"
   ]
  },
  {
   "cell_type": "markdown",
   "metadata": {},
   "source": [
    "##### Identification des clusters"
   ]
  },
  {
   "cell_type": "code",
   "execution_count": 47,
   "metadata": {},
   "outputs": [],
   "source": [
    "cluster_0 = combinedDf[combinedDf['cluster_predicted'] == 0]\n",
    "cluster_1 = combinedDf[combinedDf['cluster_predicted'] == 1]"
   ]
  },
  {
   "cell_type": "markdown",
   "metadata": {},
   "source": [
    "### Interprétation des résultats du clustering"
   ]
  },
  {
   "cell_type": "code",
   "execution_count": 48,
   "metadata": {},
   "outputs": [
    {
     "data": {
      "text/plain": [
       "Data engineer          1941\n",
       "Data architecte        1670\n",
       "Lead data scientist    1030\n",
       "Data scientist          961\n",
       "Name: Metier, dtype: int64"
      ]
     },
     "execution_count": 48,
     "metadata": {},
     "output_type": "execute_result"
    }
   ],
   "source": [
    "cluster_0[\"Metier\"].value_counts()"
   ]
  },
  {
   "cell_type": "markdown",
   "metadata": {},
   "source": [
    "Le premier cluster, cluster_0, peut être appelé \"cluster des data engineers\". \n",
    "\n",
    "1. Les data engineers et les data architecte sont les plus représentés. Le nombre de chacune de ces deux catégories est supérieur à 1500.\n",
    "\n",
    "2. Les Lead data scientist y occupent une part assez importante, environ 1000. Cela peut signifier que les Lead data scientist pourraient assurer un grande partie du métier de data engineering.\n",
    "\n",
    "3. Les data scientist y sont sous représentés."
   ]
  },
  {
   "cell_type": "code",
   "execution_count": 49,
   "metadata": {},
   "outputs": [
    {
     "data": {
      "text/plain": [
       "Data scientist         2904\n",
       "Data architecte         453\n",
       "Data engineer           406\n",
       "Lead data scientist     198\n",
       "Name: Metier, dtype: int64"
      ]
     },
     "execution_count": 49,
     "metadata": {},
     "output_type": "execute_result"
    }
   ],
   "source": [
    "cluster_1[\"Metier\"].value_counts()"
   ]
  },
  {
   "cell_type": "markdown",
   "metadata": {},
   "source": [
    "Le deuxième cluster, cluster_1, peut être appelé \"cluster des data scientists\". \n",
    "\n",
    "1. Les data scientist y sont surreprésentés, environ 3000. \n",
    "\n",
    "2.  Les autres métiers sont sous-représentés dans ce cluster. \n",
    "\n",
    "3. On peut dire que le métier de data scientist demande une spécialisation assez pointue"
   ]
  },
  {
   "cell_type": "code",
   "execution_count": 50,
   "metadata": {},
   "outputs": [
    {
     "data": {
      "text/plain": [
       "Master        3803\n",
       "Phd            636\n",
       "Bachelor       608\n",
       "No diploma     566\n",
       "Name: Diplome, dtype: int64"
      ]
     },
     "execution_count": 50,
     "metadata": {},
     "output_type": "execute_result"
    }
   ],
   "source": [
    "cluster_0[\"Diplome\"].value_counts()"
   ]
  },
  {
   "cell_type": "markdown",
   "metadata": {},
   "source": [
    "Le premier cluster, cluster_0, est dominé par le diplome de Master. "
   ]
  },
  {
   "cell_type": "code",
   "execution_count": 51,
   "metadata": {},
   "outputs": [
    {
     "data": {
      "text/plain": [
       "Phd           1622\n",
       "Master        1168\n",
       "Bachelor       784\n",
       "No diploma     395\n",
       "Name: Diplome, dtype: int64"
      ]
     },
     "execution_count": 51,
     "metadata": {},
     "output_type": "execute_result"
    }
   ],
   "source": [
    "cluster_1[\"Diplome\"].value_counts()"
   ]
  },
  {
   "cell_type": "markdown",
   "metadata": {},
   "source": [
    "Le deuxième cluster, cluster_1, est dominé par le diplome de Ph.D; ce confirme encore le caractère pointu de la spécialisation dans ce domaine."
   ]
  },
  {
   "cell_type": "code",
   "execution_count": 52,
   "metadata": {},
   "outputs": [
    {
     "data": {
      "text/plain": [
       "Confirmé    3935\n",
       "Débutant     956\n",
       "Avancé       545\n",
       "Expert       177\n",
       "Name: Exp_label, dtype: int64"
      ]
     },
     "execution_count": 52,
     "metadata": {},
     "output_type": "execute_result"
    }
   ],
   "source": [
    "cluster_0[\"Exp_label\"].value_counts()"
   ]
  },
  {
   "cell_type": "markdown",
   "metadata": {},
   "source": [
    "Les confirmés (entre 2 ans et 5 ans d'expérience) sont les plus représentés dans le métiers de data scientist"
   ]
  },
  {
   "cell_type": "code",
   "execution_count": 53,
   "metadata": {},
   "outputs": [
    {
     "data": {
      "text/plain": [
       "Débutant    2878\n",
       "Confirmé     711\n",
       "Avancé       316\n",
       "Expert        64\n",
       "Name: Exp_label, dtype: int64"
      ]
     },
     "execution_count": 53,
     "metadata": {},
     "output_type": "execute_result"
    }
   ],
   "source": [
    "cluster_1[\"Exp_label\"].value_counts()"
   ]
  },
  {
   "cell_type": "markdown",
   "metadata": {},
   "source": [
    "Les débutants (moins de 2 ans d'expérience) sont les plus représentés dans le métiers de data scientist"
   ]
  },
  {
   "cell_type": "markdown",
   "metadata": {},
   "source": [
    "On peut aussi constater que qu'il y a plus d'experts data engineers que d'experts de data scientists.\n",
    "\n",
    "En résumé, on peut visualiser les clusters comme suit:"
   ]
  },
  {
   "cell_type": "code",
   "execution_count": 54,
   "metadata": {},
   "outputs": [
    {
     "data": {
      "image/png": "[encoded data removed]",
      "text/plain": [
       "<Figure size 1080x360 with 1 Axes>"
      ]
     },
     "metadata": {
      "needs_background": "light"
     },
     "output_type": "display_data"
    }
   ],
   "source": [
    "plt.subplots(figsize = (15,5))\n",
    "sb.countplot(x=combinedDf[\"Metier\"],order=combinedDf[\"Metier\"].value_counts().index,hue=combinedDf['cluster_predicted'])\n",
    "plt.show()"
   ]
  },
  {
   "cell_type": "markdown",
   "metadata": {},
   "source": [
    "###### Mise en évidence des profils manquants dans le dataset de départ"
   ]
  },
  {
   "cell_type": "code",
   "execution_count": 55,
   "metadata": {},
   "outputs": [
    {
     "data": {
      "text/html": [
       "<div>\n",
       "<style scoped>\n",
       "    .dataframe tbody tr th:only-of-type {\n",
       "        vertical-align: middle;\n",
       "    }\n",
       "\n",
       "    .dataframe tbody tr th {\n",
       "        vertical-align: top;\n",
       "    }\n",
       "\n",
       "    .dataframe thead th {\n",
       "        text-align: right;\n",
       "    }\n",
       "</style>\n",
       "<table border=\"1\" class=\"dataframe\">\n",
       "  <thead>\n",
       "    <tr style=\"text-align: right;\">\n",
       "      <th></th>\n",
       "      <th>cluster_predicted</th>\n",
       "    </tr>\n",
       "  </thead>\n",
       "  <tbody>\n",
       "    <tr>\n",
       "      <th>346</th>\n",
       "      <td>0</td>\n",
       "    </tr>\n",
       "    <tr>\n",
       "      <th>2058</th>\n",
       "      <td>0</td>\n",
       "    </tr>\n",
       "    <tr>\n",
       "      <th>2670</th>\n",
       "      <td>1</td>\n",
       "    </tr>\n",
       "    <tr>\n",
       "      <th>2899</th>\n",
       "      <td>1</td>\n",
       "    </tr>\n",
       "    <tr>\n",
       "      <th>3346</th>\n",
       "      <td>0</td>\n",
       "    </tr>\n",
       "    <tr>\n",
       "      <th>4248</th>\n",
       "      <td>0</td>\n",
       "    </tr>\n",
       "    <tr>\n",
       "      <th>4290</th>\n",
       "      <td>1</td>\n",
       "    </tr>\n",
       "    <tr>\n",
       "      <th>4292</th>\n",
       "      <td>0</td>\n",
       "    </tr>\n",
       "    <tr>\n",
       "      <th>5425</th>\n",
       "      <td>0</td>\n",
       "    </tr>\n",
       "    <tr>\n",
       "      <th>5593</th>\n",
       "      <td>0</td>\n",
       "    </tr>\n",
       "    <tr>\n",
       "      <th>5712</th>\n",
       "      <td>0</td>\n",
       "    </tr>\n",
       "    <tr>\n",
       "      <th>6024</th>\n",
       "      <td>1</td>\n",
       "    </tr>\n",
       "    <tr>\n",
       "      <th>6625</th>\n",
       "      <td>1</td>\n",
       "    </tr>\n",
       "    <tr>\n",
       "      <th>7091</th>\n",
       "      <td>1</td>\n",
       "    </tr>\n",
       "    <tr>\n",
       "      <th>7228</th>\n",
       "      <td>0</td>\n",
       "    </tr>\n",
       "    <tr>\n",
       "      <th>7330</th>\n",
       "      <td>1</td>\n",
       "    </tr>\n",
       "    <tr>\n",
       "      <th>9087</th>\n",
       "      <td>0</td>\n",
       "    </tr>\n",
       "    <tr>\n",
       "      <th>9427</th>\n",
       "      <td>1</td>\n",
       "    </tr>\n",
       "    <tr>\n",
       "      <th>9490</th>\n",
       "      <td>0</td>\n",
       "    </tr>\n",
       "  </tbody>\n",
       "</table>\n",
       "</div>"
      ],
      "text/plain": [
       "      cluster_predicted\n",
       "346                   0\n",
       "2058                  0\n",
       "2670                  1\n",
       "2899                  1\n",
       "3346                  0\n",
       "4248                  0\n",
       "4290                  1\n",
       "4292                  0\n",
       "5425                  0\n",
       "5593                  0\n",
       "5712                  0\n",
       "6024                  1\n",
       "6625                  1\n",
       "7091                  1\n",
       "7228                  0\n",
       "7330                  1\n",
       "9087                  0\n",
       "9427                  1\n",
       "9490                  0"
      ]
     },
     "execution_count": 55,
     "metadata": {},
     "output_type": "execute_result"
    }
   ],
   "source": [
    "# Index des profils manquants\n",
    "index_nan_metier = list(np.where(combinedDf[\"Metier\"].isnull())[0])\n",
    "cols = [\"cluster_predicted\"]\n",
    "\n",
    "# Métier des profils manquants\n",
    "pd.concat([df_pret_au_clustering, clustersDf], axis = 1).reset_index().iloc[index_nan_metier][cols]"
   ]
  },
  {
   "cell_type": "markdown",
   "metadata": {},
   "source": [
    "### 9) Réaliser la prédiction des métiers manquants dans la base de données par l'algorithme de votre choix\n",
    "-  Justifier la performance de votre algorithme grace à une métrique.\n",
    "-  Interpréter votre resultat.  "
   ]
  },
  {
   "cell_type": "markdown",
   "metadata": {},
   "source": [
    "ExtraTreesClassifier est un algorithme d'apprentissage automatique qui fait partie de la famille des arbres de décision. Je le choisis à cause de ses avantages que sont :\n",
    "\n",
    "1. Robustesse au bruit : ExtraTreesClassifier est robuste au bruit dans les données d'entrée, ce qui signifie qu'il peut gérer les données avec des erreurs ou des valeurs manquantes sans trop d'effets néfastes sur les performances du modèle.\n",
    "\n",
    "2. Rapidité : ExtraTreesClassifier est rapide à entraîner et à prédire car il effectue une sélection aléatoire des caractéristiques et utilise des sous-échantillons aléatoires de l'ensemble de données d'entraînement pour construire les arbres de décision.\n",
    "\n",
    "3. Réduction du surajustement : En utilisant des sous-échantillons aléatoires de l'ensemble de données d'entraînement, ExtraTreesClassifier peut réduire le risque de surajustement, ce qui signifie qu'il est moins susceptible de surapprendre les particularités de l'ensemble de données d'entraînement.\n",
    "\n",
    "4. Capacité à gérer les données à grande échelle : ExtraTreesClassifier peut facilement gérer les ensembles de données à grande échelle grâce à sa capacité à effectuer des calculs parallèles et distribués.\n",
    "\n",
    "5. Bonne performance : ExtraTreesClassifier est souvent comparé à d'autres algorithmes de classification en termes de précision et de temps d'exécution, et il a souvent été constaté qu'il donne de très bons résultats en termes de précision.\n",
    "\n",
    "En résumé, ExtraTreesClassifier est un algorithme puissant qui peut être utilisé pour une variété de tâches de classification et qui présente de nombreux avantages, notamment sa robustesse au bruit, sa rapidité, sa capacité à gérer les données à grande échelle et sa bonne performance."
   ]
  },
  {
   "cell_type": "markdown",
   "metadata": {},
   "source": [
    "J'utilise le dataset suivant"
   ]
  },
  {
   "cell_type": "code",
   "execution_count": 56,
   "metadata": {},
   "outputs": [
    {
     "data": {
      "text/html": [
       "<div>\n",
       "<style scoped>\n",
       "    .dataframe tbody tr th:only-of-type {\n",
       "        vertical-align: middle;\n",
       "    }\n",
       "\n",
       "    .dataframe tbody tr th {\n",
       "        vertical-align: top;\n",
       "    }\n",
       "\n",
       "    .dataframe thead th {\n",
       "        text-align: right;\n",
       "    }\n",
       "</style>\n",
       "<table border=\"1\" class=\"dataframe\">\n",
       "  <thead>\n",
       "    <tr style=\"text-align: right;\">\n",
       "      <th></th>\n",
       "      <th>Metier</th>\n",
       "      <th>Diplome_Bachelor</th>\n",
       "      <th>Diplome_Master</th>\n",
       "      <th>Diplome_No diploma</th>\n",
       "      <th>Diplome_Phd</th>\n",
       "      <th>Exp_label_Avancé</th>\n",
       "      <th>Exp_label_Confirmé</th>\n",
       "      <th>Exp_label_Débutant</th>\n",
       "      <th>Exp_label_Expert</th>\n",
       "      <th>Aws</th>\n",
       "      <th>...</th>\n",
       "      <th>Java</th>\n",
       "      <th>Linux</th>\n",
       "      <th>Machine learning</th>\n",
       "      <th>Mongodb</th>\n",
       "      <th>Python</th>\n",
       "      <th>R</th>\n",
       "      <th>Sas</th>\n",
       "      <th>Spark</th>\n",
       "      <th>Sql</th>\n",
       "      <th>Vba</th>\n",
       "    </tr>\n",
       "  </thead>\n",
       "  <tbody>\n",
       "    <tr>\n",
       "      <th>0</th>\n",
       "      <td>Data scientist</td>\n",
       "      <td>0</td>\n",
       "      <td>1</td>\n",
       "      <td>0</td>\n",
       "      <td>0</td>\n",
       "      <td>0</td>\n",
       "      <td>0</td>\n",
       "      <td>1</td>\n",
       "      <td>0</td>\n",
       "      <td>0</td>\n",
       "      <td>...</td>\n",
       "      <td>0</td>\n",
       "      <td>0</td>\n",
       "      <td>0</td>\n",
       "      <td>0</td>\n",
       "      <td>1</td>\n",
       "      <td>0</td>\n",
       "      <td>0</td>\n",
       "      <td>0</td>\n",
       "      <td>0</td>\n",
       "      <td>0</td>\n",
       "    </tr>\n",
       "    <tr>\n",
       "      <th>1</th>\n",
       "      <td>Data architecte</td>\n",
       "      <td>0</td>\n",
       "      <td>1</td>\n",
       "      <td>0</td>\n",
       "      <td>0</td>\n",
       "      <td>0</td>\n",
       "      <td>1</td>\n",
       "      <td>0</td>\n",
       "      <td>0</td>\n",
       "      <td>0</td>\n",
       "      <td>...</td>\n",
       "      <td>1</td>\n",
       "      <td>0</td>\n",
       "      <td>0</td>\n",
       "      <td>1</td>\n",
       "      <td>1</td>\n",
       "      <td>0</td>\n",
       "      <td>0</td>\n",
       "      <td>0</td>\n",
       "      <td>0</td>\n",
       "      <td>0</td>\n",
       "    </tr>\n",
       "    <tr>\n",
       "      <th>2</th>\n",
       "      <td>Lead data scientist</td>\n",
       "      <td>0</td>\n",
       "      <td>1</td>\n",
       "      <td>0</td>\n",
       "      <td>0</td>\n",
       "      <td>0</td>\n",
       "      <td>1</td>\n",
       "      <td>0</td>\n",
       "      <td>0</td>\n",
       "      <td>0</td>\n",
       "      <td>...</td>\n",
       "      <td>0</td>\n",
       "      <td>0</td>\n",
       "      <td>0</td>\n",
       "      <td>0</td>\n",
       "      <td>1</td>\n",
       "      <td>1</td>\n",
       "      <td>0</td>\n",
       "      <td>0</td>\n",
       "      <td>1</td>\n",
       "      <td>0</td>\n",
       "    </tr>\n",
       "    <tr>\n",
       "      <th>3</th>\n",
       "      <td>Data scientist</td>\n",
       "      <td>0</td>\n",
       "      <td>1</td>\n",
       "      <td>0</td>\n",
       "      <td>0</td>\n",
       "      <td>0</td>\n",
       "      <td>0</td>\n",
       "      <td>1</td>\n",
       "      <td>0</td>\n",
       "      <td>0</td>\n",
       "      <td>...</td>\n",
       "      <td>1</td>\n",
       "      <td>0</td>\n",
       "      <td>0</td>\n",
       "      <td>0</td>\n",
       "      <td>1</td>\n",
       "      <td>0</td>\n",
       "      <td>0</td>\n",
       "      <td>0</td>\n",
       "      <td>0</td>\n",
       "      <td>0</td>\n",
       "    </tr>\n",
       "    <tr>\n",
       "      <th>4</th>\n",
       "      <td>Data scientist</td>\n",
       "      <td>0</td>\n",
       "      <td>0</td>\n",
       "      <td>0</td>\n",
       "      <td>1</td>\n",
       "      <td>0</td>\n",
       "      <td>1</td>\n",
       "      <td>0</td>\n",
       "      <td>0</td>\n",
       "      <td>0</td>\n",
       "      <td>...</td>\n",
       "      <td>0</td>\n",
       "      <td>0</td>\n",
       "      <td>0</td>\n",
       "      <td>0</td>\n",
       "      <td>1</td>\n",
       "      <td>0</td>\n",
       "      <td>0</td>\n",
       "      <td>0</td>\n",
       "      <td>0</td>\n",
       "      <td>0</td>\n",
       "    </tr>\n",
       "  </tbody>\n",
       "</table>\n",
       "<p>5 rows × 26 columns</p>\n",
       "</div>"
      ],
      "text/plain": [
       "                Metier  Diplome_Bachelor  Diplome_Master  Diplome_No diploma  \\\n",
       "0       Data scientist                 0               1                   0   \n",
       "1      Data architecte                 0               1                   0   \n",
       "2  Lead data scientist                 0               1                   0   \n",
       "3       Data scientist                 0               1                   0   \n",
       "4       Data scientist                 0               0                   0   \n",
       "\n",
       "   Diplome_Phd  Exp_label_Avancé  Exp_label_Confirmé  Exp_label_Débutant  \\\n",
       "0            0                 0                   0                   1   \n",
       "1            0                 0                   1                   0   \n",
       "2            0                 0                   1                   0   \n",
       "3            0                 0                   0                   1   \n",
       "4            1                 0                   1                   0   \n",
       "\n",
       "   Exp_label_Expert  Aws  ...  Java  Linux  Machine learning  Mongodb  Python  \\\n",
       "0                 0    0  ...     0      0                 0        0       1   \n",
       "1                 0    0  ...     1      0                 0        1       1   \n",
       "2                 0    0  ...     0      0                 0        0       1   \n",
       "3                 0    0  ...     1      0                 0        0       1   \n",
       "4                 0    0  ...     0      0                 0        0       1   \n",
       "\n",
       "   R  Sas  Spark  Sql  Vba  \n",
       "0  0    0      0    0    0  \n",
       "1  0    0      0    0    0  \n",
       "2  1    0      0    1    0  \n",
       "3  0    0      0    0    0  \n",
       "4  0    0      0    0    0  \n",
       "\n",
       "[5 rows x 26 columns]"
      ]
     },
     "execution_count": 56,
     "metadata": {},
     "output_type": "execute_result"
    }
   ],
   "source": [
    "df_base = pd.get_dummies(df[[\"Diplome\", \"Exp_label\"]])\n",
    "df_for_pred = pd.concat([df[\"Metier\"],df_base,df_Technologies], axis = 1 )\n",
    "df_for_pred.head()"
   ]
  },
  {
   "cell_type": "code",
   "execution_count": 57,
   "metadata": {},
   "outputs": [
    {
     "data": {
      "text/html": [
       "<div>\n",
       "<style scoped>\n",
       "    .dataframe tbody tr th:only-of-type {\n",
       "        vertical-align: middle;\n",
       "    }\n",
       "\n",
       "    .dataframe tbody tr th {\n",
       "        vertical-align: top;\n",
       "    }\n",
       "\n",
       "    .dataframe thead th {\n",
       "        text-align: right;\n",
       "    }\n",
       "</style>\n",
       "<table border=\"1\" class=\"dataframe\">\n",
       "  <thead>\n",
       "    <tr style=\"text-align: right;\">\n",
       "      <th></th>\n",
       "      <th>Diplome_Bachelor</th>\n",
       "      <th>Diplome_Master</th>\n",
       "      <th>Diplome_No diploma</th>\n",
       "      <th>Diplome_Phd</th>\n",
       "      <th>Exp_label_Avancé</th>\n",
       "      <th>Exp_label_Confirmé</th>\n",
       "      <th>Exp_label_Débutant</th>\n",
       "      <th>Exp_label_Expert</th>\n",
       "      <th>Aws</th>\n",
       "      <th>Big data</th>\n",
       "      <th>...</th>\n",
       "      <th>Java</th>\n",
       "      <th>Linux</th>\n",
       "      <th>Machine learning</th>\n",
       "      <th>Mongodb</th>\n",
       "      <th>Python</th>\n",
       "      <th>R</th>\n",
       "      <th>Sas</th>\n",
       "      <th>Spark</th>\n",
       "      <th>Sql</th>\n",
       "      <th>Vba</th>\n",
       "    </tr>\n",
       "  </thead>\n",
       "  <tbody>\n",
       "    <tr>\n",
       "      <th>346</th>\n",
       "      <td>0</td>\n",
       "      <td>0</td>\n",
       "      <td>1</td>\n",
       "      <td>0</td>\n",
       "      <td>0</td>\n",
       "      <td>1</td>\n",
       "      <td>0</td>\n",
       "      <td>0</td>\n",
       "      <td>0</td>\n",
       "      <td>0</td>\n",
       "      <td>...</td>\n",
       "      <td>0</td>\n",
       "      <td>1</td>\n",
       "      <td>0</td>\n",
       "      <td>0</td>\n",
       "      <td>1</td>\n",
       "      <td>0</td>\n",
       "      <td>0</td>\n",
       "      <td>1</td>\n",
       "      <td>0</td>\n",
       "      <td>0</td>\n",
       "    </tr>\n",
       "    <tr>\n",
       "      <th>2058</th>\n",
       "      <td>0</td>\n",
       "      <td>1</td>\n",
       "      <td>0</td>\n",
       "      <td>0</td>\n",
       "      <td>0</td>\n",
       "      <td>0</td>\n",
       "      <td>0</td>\n",
       "      <td>1</td>\n",
       "      <td>0</td>\n",
       "      <td>0</td>\n",
       "      <td>...</td>\n",
       "      <td>0</td>\n",
       "      <td>0</td>\n",
       "      <td>0</td>\n",
       "      <td>0</td>\n",
       "      <td>1</td>\n",
       "      <td>1</td>\n",
       "      <td>0</td>\n",
       "      <td>0</td>\n",
       "      <td>0</td>\n",
       "      <td>1</td>\n",
       "    </tr>\n",
       "    <tr>\n",
       "      <th>2670</th>\n",
       "      <td>0</td>\n",
       "      <td>1</td>\n",
       "      <td>0</td>\n",
       "      <td>0</td>\n",
       "      <td>0</td>\n",
       "      <td>0</td>\n",
       "      <td>1</td>\n",
       "      <td>0</td>\n",
       "      <td>0</td>\n",
       "      <td>0</td>\n",
       "      <td>...</td>\n",
       "      <td>1</td>\n",
       "      <td>0</td>\n",
       "      <td>0</td>\n",
       "      <td>0</td>\n",
       "      <td>1</td>\n",
       "      <td>1</td>\n",
       "      <td>0</td>\n",
       "      <td>0</td>\n",
       "      <td>0</td>\n",
       "      <td>0</td>\n",
       "    </tr>\n",
       "    <tr>\n",
       "      <th>2899</th>\n",
       "      <td>0</td>\n",
       "      <td>0</td>\n",
       "      <td>0</td>\n",
       "      <td>1</td>\n",
       "      <td>0</td>\n",
       "      <td>0</td>\n",
       "      <td>1</td>\n",
       "      <td>0</td>\n",
       "      <td>0</td>\n",
       "      <td>0</td>\n",
       "      <td>...</td>\n",
       "      <td>0</td>\n",
       "      <td>0</td>\n",
       "      <td>0</td>\n",
       "      <td>0</td>\n",
       "      <td>1</td>\n",
       "      <td>1</td>\n",
       "      <td>0</td>\n",
       "      <td>0</td>\n",
       "      <td>0</td>\n",
       "      <td>0</td>\n",
       "    </tr>\n",
       "    <tr>\n",
       "      <th>3346</th>\n",
       "      <td>0</td>\n",
       "      <td>1</td>\n",
       "      <td>0</td>\n",
       "      <td>0</td>\n",
       "      <td>1</td>\n",
       "      <td>0</td>\n",
       "      <td>0</td>\n",
       "      <td>0</td>\n",
       "      <td>1</td>\n",
       "      <td>0</td>\n",
       "      <td>...</td>\n",
       "      <td>0</td>\n",
       "      <td>0</td>\n",
       "      <td>0</td>\n",
       "      <td>1</td>\n",
       "      <td>0</td>\n",
       "      <td>0</td>\n",
       "      <td>0</td>\n",
       "      <td>0</td>\n",
       "      <td>0</td>\n",
       "      <td>0</td>\n",
       "    </tr>\n",
       "  </tbody>\n",
       "</table>\n",
       "<p>5 rows × 25 columns</p>\n",
       "</div>"
      ],
      "text/plain": [
       "      Diplome_Bachelor  Diplome_Master  Diplome_No diploma  Diplome_Phd  \\\n",
       "346                  0               0                   1            0   \n",
       "2058                 0               1                   0            0   \n",
       "2670                 0               1                   0            0   \n",
       "2899                 0               0                   0            1   \n",
       "3346                 0               1                   0            0   \n",
       "\n",
       "      Exp_label_Avancé  Exp_label_Confirmé  Exp_label_Débutant  \\\n",
       "346                  0                   1                   0   \n",
       "2058                 0                   0                   0   \n",
       "2670                 0                   0                   1   \n",
       "2899                 0                   0                   1   \n",
       "3346                 1                   0                   0   \n",
       "\n",
       "      Exp_label_Expert  Aws  Big data  ...  Java  Linux  Machine learning  \\\n",
       "346                  0    0         0  ...     0      1                 0   \n",
       "2058                 1    0         0  ...     0      0                 0   \n",
       "2670                 0    0         0  ...     1      0                 0   \n",
       "2899                 0    0         0  ...     0      0                 0   \n",
       "3346                 0    1         0  ...     0      0                 0   \n",
       "\n",
       "      Mongodb  Python  R  Sas  Spark  Sql  Vba  \n",
       "346         0       1  0    0      1    0    0  \n",
       "2058        0       1  1    0      0    0    1  \n",
       "2670        0       1  1    0      0    0    0  \n",
       "2899        0       1  1    0      0    0    0  \n",
       "3346        1       0  0    0      0    0    0  \n",
       "\n",
       "[5 rows x 25 columns]"
      ]
     },
     "execution_count": 57,
     "metadata": {},
     "output_type": "execute_result"
    }
   ],
   "source": [
    "X_des_metiers_manquants = df_for_pred.iloc[index_nan_metier].drop(\"Metier\", axis = 1)\n",
    "X_des_metiers_manquants.head()"
   ]
  },
  {
   "cell_type": "code",
   "execution_count": 58,
   "metadata": {},
   "outputs": [],
   "source": [
    "df_for_pred_used_to_train = df_for_pred.dropna()"
   ]
  },
  {
   "cell_type": "code",
   "execution_count": 59,
   "metadata": {},
   "outputs": [],
   "source": [
    "# Separate target and feature\n",
    "y = df_for_pred_used_to_train[\"Metier\"].astype(\"category\").cat.codes\n",
    "X = df_for_pred_used_to_train.drop(\"Metier\", axis = 1)"
   ]
  },
  {
   "cell_type": "code",
   "execution_count": 60,
   "metadata": {},
   "outputs": [
    {
     "data": {
      "text/plain": [
       "{0: 'Data architecte',\n",
       " 1: 'Data engineer',\n",
       " 2: 'Data scientist',\n",
       " 3: 'Lead data scientist'}"
      ]
     },
     "execution_count": 60,
     "metadata": {},
     "output_type": "execute_result"
    }
   ],
   "source": [
    "# Création d'un dictionnaire de correspondance entre les labels et les codes de classe\n",
    "metiers_codes_dict = dict(enumerate(df_for_pred_used_to_train[\"Metier\"].astype('category').cat.categories))\n",
    "metiers_codes_dict"
   ]
  },
  {
   "cell_type": "code",
   "execution_count": 61,
   "metadata": {},
   "outputs": [],
   "source": [
    "# Split the data\n",
    "X_train, X_test, y_train, y_test = train_test_split(X, y, test_size = 0.2, random_state = 0)"
   ]
  },
  {
   "cell_type": "code",
   "execution_count": 62,
   "metadata": {},
   "outputs": [
    {
     "data": {
      "text/html": [
       "<style>#sk-container-id-1 {color: black;background-color: white;}#sk-container-id-1 pre{padding: 0;}#sk-container-id-1 div.sk-toggleable {background-color: white;}#sk-container-id-1 label.sk-toggleable__label {cursor: pointer;display: block;width: 100%;margin-bottom: 0;padding: 0.3em;box-sizing: border-box;text-align: center;}#sk-container-id-1 label.sk-toggleable__label-arrow:before {content: \"▸\";float: left;margin-right: 0.25em;color: #696969;}#sk-container-id-1 label.sk-toggleable__label-arrow:hover:before {color: black;}#sk-container-id-1 div.sk-estimator:hover label.sk-toggleable__label-arrow:before {color: black;}#sk-container-id-1 div.sk-toggleable__content {max-height: 0;max-width: 0;overflow: hidden;text-align: left;background-color: #f0f8ff;}#sk-container-id-1 div.sk-toggleable__content pre {margin: 0.2em;color: black;border-radius: 0.25em;background-color: #f0f8ff;}#sk-container-id-1 input.sk-toggleable__control:checked~div.sk-toggleable__content {max-height: 200px;max-width: 100%;overflow: auto;}#sk-container-id-1 input.sk-toggleable__control:checked~label.sk-toggleable__label-arrow:before {content: \"▾\";}#sk-container-id-1 div.sk-estimator input.sk-toggleable__control:checked~label.sk-toggleable__label {background-color: #d4ebff;}#sk-container-id-1 div.sk-label input.sk-toggleable__control:checked~label.sk-toggleable__label {background-color: #d4ebff;}#sk-container-id-1 input.sk-hidden--visually {border: 0;clip: rect(1px 1px 1px 1px);clip: rect(1px, 1px, 1px, 1px);height: 1px;margin: -1px;overflow: hidden;padding: 0;position: absolute;width: 1px;}#sk-container-id-1 div.sk-estimator {font-family: monospace;background-color: #f0f8ff;border: 1px dotted black;border-radius: 0.25em;box-sizing: border-box;margin-bottom: 0.5em;}#sk-container-id-1 div.sk-estimator:hover {background-color: #d4ebff;}#sk-container-id-1 div.sk-parallel-item::after {content: \"\";width: 100%;border-bottom: 1px solid gray;flex-grow: 1;}#sk-container-id-1 div.sk-label:hover label.sk-toggleable__label {background-color: #d4ebff;}#sk-container-id-1 div.sk-serial::before {content: \"\";position: absolute;border-left: 1px solid gray;box-sizing: border-box;top: 0;bottom: 0;left: 50%;z-index: 0;}#sk-container-id-1 div.sk-serial {display: flex;flex-direction: column;align-items: center;background-color: white;padding-right: 0.2em;padding-left: 0.2em;position: relative;}#sk-container-id-1 div.sk-item {position: relative;z-index: 1;}#sk-container-id-1 div.sk-parallel {display: flex;align-items: stretch;justify-content: center;background-color: white;position: relative;}#sk-container-id-1 div.sk-item::before, #sk-container-id-1 div.sk-parallel-item::before {content: \"\";position: absolute;border-left: 1px solid gray;box-sizing: border-box;top: 0;bottom: 0;left: 50%;z-index: -1;}#sk-container-id-1 div.sk-parallel-item {display: flex;flex-direction: column;z-index: 1;position: relative;background-color: white;}#sk-container-id-1 div.sk-parallel-item:first-child::after {align-self: flex-end;width: 50%;}#sk-container-id-1 div.sk-parallel-item:last-child::after {align-self: flex-start;width: 50%;}#sk-container-id-1 div.sk-parallel-item:only-child::after {width: 0;}#sk-container-id-1 div.sk-dashed-wrapped {border: 1px dashed gray;margin: 0 0.4em 0.5em 0.4em;box-sizing: border-box;padding-bottom: 0.4em;background-color: white;}#sk-container-id-1 div.sk-label label {font-family: monospace;font-weight: bold;display: inline-block;line-height: 1.2em;}#sk-container-id-1 div.sk-label-container {text-align: center;}#sk-container-id-1 div.sk-container {/* jupyter's `normalize.less` sets `[hidden] { display: none; }` but bootstrap.min.css set `[hidden] { display: none !important; }` so we also need the `!important` here to be able to override the default hidden behavior on the sphinx rendered scikit-learn.org. See: https://github.com/scikit-learn/scikit-learn/issues/21755 */display: inline-block !important;position: relative;}#sk-container-id-1 div.sk-text-repr-fallback {display: none;}</style><div id=\"sk-container-id-1\" class=\"sk-top-container\"><div class=\"sk-text-repr-fallback\"><pre>ExtraTreesClassifier(random_state=42)</pre><b>In a Jupyter environment, please rerun this cell to show the HTML representation or trust the notebook. <br />On GitHub, the HTML representation is unable to render, please try loading this page with nbviewer.org.</b></div><div class=\"sk-container\" hidden><div class=\"sk-item\"><div class=\"sk-estimator sk-toggleable\"><input class=\"sk-toggleable__control sk-hidden--visually\" id=\"sk-estimator-id-1\" type=\"checkbox\" checked><label for=\"sk-estimator-id-1\" class=\"sk-toggleable__label sk-toggleable__label-arrow\">ExtraTreesClassifier</label><div class=\"sk-toggleable__content\"><pre>ExtraTreesClassifier(random_state=42)</pre></div></div></div></div></div>"
      ],
      "text/plain": [
       "ExtraTreesClassifier(random_state=42)"
      ]
     },
     "execution_count": 62,
     "metadata": {},
     "output_type": "execute_result"
    }
   ],
   "source": [
    "# Créer un modèle ExtraTreesClassifier et l'entraîner sur les données d'entraînement\n",
    "model = ExtraTreesClassifier(n_estimators=100, random_state=42)\n",
    "model.fit(X_train, y_train)"
   ]
  },
  {
   "cell_type": "code",
   "execution_count": 63,
   "metadata": {},
   "outputs": [],
   "source": [
    "y_pred = model.predict(X_test)"
   ]
  },
  {
   "cell_type": "code",
   "execution_count": 64,
   "metadata": {},
   "outputs": [
    {
     "name": "stdout",
     "output_type": "stream",
     "text": [
      "Classification Report:\n",
      "              precision    recall  f1-score   support\n",
      "\n",
      "           0       0.96      0.94      0.95       404\n",
      "           1       0.93      0.99      0.96       475\n",
      "           2       0.82      0.91      0.86       780\n",
      "           3       0.66      0.37      0.48       254\n",
      "\n",
      "    accuracy                           0.87      1913\n",
      "   macro avg       0.84      0.80      0.81      1913\n",
      "weighted avg       0.86      0.87      0.85      1913\n",
      "\n",
      "Confusion Matrix:\n"
     ]
    }
   ],
   "source": [
    "# Évaluer les performances du modèle avec classification_report et confusion_matrix\n",
    "print('Classification Report:')\n",
    "print(classification_report(y_test, y_pred))\n",
    "print('Confusion Matrix:')"
   ]
  },
  {
   "cell_type": "markdown",
   "metadata": {},
   "source": [
    "Le rapport de classification indique que le modèle a une précision de 0,96 pour la classe 0, ce qui signifie que 96 %\n",
    "des métiers prédits comme Data architecte par le modèle étaient effectivement Data architecte.\n",
    "\n",
    "De même, le modèle a une précision de 0,93 pour la classe 1  , ce qui signifie que 93 % des métiers prédits comme Data engineer par le modèle étaient effectivement Data engineer.\n",
    "\n",
    "De même, le modèle a une précision de 0,82 pour la classe 2  , ce qui signifie que 82 % des métiers prédits comme Data scientist par le modèle étaient effectivement Data scientist.\n",
    "\n",
    "Et enfin, le modèle a une précision de 0,66 pour la classe 3  , ce qui signifie que 66 % des métiers prédits comme Lead data scientist par le modèle étaient effectivement Lead data scientist.\n",
    "\n",
    "\n",
    "Le rappel pour la classe 0 est de 0,94, ce qui signifie que le modèle a identifié 94 % de tous les Data architecte.\n",
    "\n",
    "Le rappel pour la classe 1 est de 0,99, ce qui signifie que le modèle a identifié 99 % de tous les Data engineer.\n",
    "\n",
    "Le rappel pour la classe 2 est de 0,91, ce qui signifie que le modèle a identifié 91 % de tous les Data scientist.\n",
    "\n",
    "Le rappel pour la classe 3 est de 0,37, ce qui signifie que le modèle a identifié 37 % de tous les Lead data scientist.\n",
    "\n",
    "La mesure F1 est une moyenne harmonique de la précision et du rappel, et elle indique l'équilibre entre la précision et le rappel. \n",
    "\n",
    "Enfin, le support est le nombre d'échantillons réels de chaque classe."
   ]
  },
  {
   "cell_type": "code",
   "execution_count": 65,
   "metadata": {},
   "outputs": [
    {
     "data": {
      "image/png": "[encoded data removed]",
      "text/plain": [
       "<Figure size 576x432 with 2 Axes>"
      ]
     },
     "metadata": {
      "needs_background": "light"
     },
     "output_type": "display_data"
    }
   ],
   "source": [
    "from sklearn.metrics import confusion_matrix, ConfusionMatrixDisplay\n",
    "fig, ax = plt.subplots(1,1, figsize = (8,6))\n",
    "ConfusionMatrixDisplay(confusion_matrix(y_test, y_pred)).plot(ax = ax)\n",
    "ax.xaxis.set_ticklabels(['0', '1', '2','3'])\n",
    "ax.yaxis.set_ticklabels(['0', '1', '2','3'])\n",
    "#plt.title()\n",
    "plt.show()"
   ]
  },
  {
   "cell_type": "markdown",
   "metadata": {},
   "source": [
    "La matrice de confusion est une autre façon d'évaluer les performances d'un modèle de classification. Elle montre le nombre de vrais positifs (VP), de faux positifs (FP), de vrais négatifs (VN) et de faux négatifs (FN) pour chaque classe."
   ]
  },
  {
   "cell_type": "markdown",
   "metadata": {},
   "source": [
    "#### Prédiction des métiers manquants"
   ]
  },
  {
   "cell_type": "code",
   "execution_count": 66,
   "metadata": {},
   "outputs": [
    {
     "data": {
      "text/html": [
       "<div>\n",
       "<style scoped>\n",
       "    .dataframe tbody tr th:only-of-type {\n",
       "        vertical-align: middle;\n",
       "    }\n",
       "\n",
       "    .dataframe tbody tr th {\n",
       "        vertical-align: top;\n",
       "    }\n",
       "\n",
       "    .dataframe thead th {\n",
       "        text-align: right;\n",
       "    }\n",
       "</style>\n",
       "<table border=\"1\" class=\"dataframe\">\n",
       "  <thead>\n",
       "    <tr style=\"text-align: right;\">\n",
       "      <th></th>\n",
       "      <th>code_metiers</th>\n",
       "      <th>Metiers</th>\n",
       "    </tr>\n",
       "  </thead>\n",
       "  <tbody>\n",
       "    <tr>\n",
       "      <th>0</th>\n",
       "      <td>1</td>\n",
       "      <td>Data engineer</td>\n",
       "    </tr>\n",
       "    <tr>\n",
       "      <th>1</th>\n",
       "      <td>2</td>\n",
       "      <td>Data scientist</td>\n",
       "    </tr>\n",
       "    <tr>\n",
       "      <th>2</th>\n",
       "      <td>2</td>\n",
       "      <td>Data scientist</td>\n",
       "    </tr>\n",
       "    <tr>\n",
       "      <th>3</th>\n",
       "      <td>2</td>\n",
       "      <td>Data scientist</td>\n",
       "    </tr>\n",
       "    <tr>\n",
       "      <th>4</th>\n",
       "      <td>0</td>\n",
       "      <td>Data architecte</td>\n",
       "    </tr>\n",
       "    <tr>\n",
       "      <th>5</th>\n",
       "      <td>2</td>\n",
       "      <td>Data scientist</td>\n",
       "    </tr>\n",
       "    <tr>\n",
       "      <th>6</th>\n",
       "      <td>2</td>\n",
       "      <td>Data scientist</td>\n",
       "    </tr>\n",
       "    <tr>\n",
       "      <th>7</th>\n",
       "      <td>3</td>\n",
       "      <td>Lead data scientist</td>\n",
       "    </tr>\n",
       "    <tr>\n",
       "      <th>8</th>\n",
       "      <td>1</td>\n",
       "      <td>Data engineer</td>\n",
       "    </tr>\n",
       "    <tr>\n",
       "      <th>9</th>\n",
       "      <td>2</td>\n",
       "      <td>Data scientist</td>\n",
       "    </tr>\n",
       "    <tr>\n",
       "      <th>10</th>\n",
       "      <td>0</td>\n",
       "      <td>Data architecte</td>\n",
       "    </tr>\n",
       "    <tr>\n",
       "      <th>11</th>\n",
       "      <td>1</td>\n",
       "      <td>Data engineer</td>\n",
       "    </tr>\n",
       "    <tr>\n",
       "      <th>12</th>\n",
       "      <td>0</td>\n",
       "      <td>Data architecte</td>\n",
       "    </tr>\n",
       "    <tr>\n",
       "      <th>13</th>\n",
       "      <td>2</td>\n",
       "      <td>Data scientist</td>\n",
       "    </tr>\n",
       "    <tr>\n",
       "      <th>14</th>\n",
       "      <td>1</td>\n",
       "      <td>Data engineer</td>\n",
       "    </tr>\n",
       "    <tr>\n",
       "      <th>15</th>\n",
       "      <td>2</td>\n",
       "      <td>Data scientist</td>\n",
       "    </tr>\n",
       "    <tr>\n",
       "      <th>16</th>\n",
       "      <td>0</td>\n",
       "      <td>Data architecte</td>\n",
       "    </tr>\n",
       "    <tr>\n",
       "      <th>17</th>\n",
       "      <td>2</td>\n",
       "      <td>Data scientist</td>\n",
       "    </tr>\n",
       "    <tr>\n",
       "      <th>18</th>\n",
       "      <td>2</td>\n",
       "      <td>Data scientist</td>\n",
       "    </tr>\n",
       "  </tbody>\n",
       "</table>\n",
       "</div>"
      ],
      "text/plain": [
       "    code_metiers              Metiers\n",
       "0              1        Data engineer\n",
       "1              2       Data scientist\n",
       "2              2       Data scientist\n",
       "3              2       Data scientist\n",
       "4              0      Data architecte\n",
       "5              2       Data scientist\n",
       "6              2       Data scientist\n",
       "7              3  Lead data scientist\n",
       "8              1        Data engineer\n",
       "9              2       Data scientist\n",
       "10             0      Data architecte\n",
       "11             1        Data engineer\n",
       "12             0      Data architecte\n",
       "13             2       Data scientist\n",
       "14             1        Data engineer\n",
       "15             2       Data scientist\n",
       "16             0      Data architecte\n",
       "17             2       Data scientist\n",
       "18             2       Data scientist"
      ]
     },
     "execution_count": 66,
     "metadata": {},
     "output_type": "execute_result"
    }
   ],
   "source": [
    "prediction_metiers_manquants = model.predict(X_des_metiers_manquants)\n",
    "list_pred = list(prediction_metiers_manquants) \n",
    "values_list = [metiers_codes_dict[key] for key in list_pred]\n",
    "\n",
    "metier_predits = pd.DataFrame(list(zip(list_pred, values_list)), columns=['code_metiers', 'Metiers'])\n",
    "\n",
    "metier_predits"
   ]
  },
  {
   "cell_type": "markdown",
   "metadata": {},
   "source": [
    "##### Commentaires:"
   ]
  },
  {
   "cell_type": "code",
   "execution_count": null,
   "metadata": {},
   "outputs": [],
   "source": []
  }
 ],
 "metadata": {
  "kernelspec": {
   "display_name": "Python 3 (ipykernel)",
   "language": "python",
   "name": "python3"
  },
  "language_info": {
   "codemirror_mode": {
    "name": "ipython",
    "version": 3
   },
   "file_extension": ".py",
   "mimetype": "text/x-python",
   "name": "python",
   "nbconvert_exporter": "python",
   "pygments_lexer": "ipython3",
   "version": "3.9.16"
  }
 },
 "nbformat": 4,
 "nbformat_minor": 2
}
